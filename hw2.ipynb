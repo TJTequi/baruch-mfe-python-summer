{
 "cells": [
  {
   "cell_type": "markdown",
   "metadata": {},
   "source": [
    "# Homework 2"
   ]
  },
  {
   "cell_type": "markdown",
   "metadata": {},
   "source": [
    "## Reading\n",
    "* Descriptor: https://realpython.com/python-descriptors/#how-attributes-are-accessed-with-the-lookup-chain\n",
    "* Data model: https://docs.python.org/3/reference/datamodel.html (contents related to what we taught)\n",
    "* Python MRO: https://www.python.org/download/releases/2.3/mro/"
   ]
  },
  {
   "cell_type": "markdown",
   "metadata": {},
   "source": [
    "## Merge sorted stream\n",
    "Write a generator function that takes two sorted streams (generators), and return a generator that can produce a merged stream in sorted order.\n",
    "\n",
    "Bonus point: can you make it generic such that it can merge any number of streams?\n",
    "\n",
    "\n",
    "```python\n",
    "def merge_sorted_stream(stream1, stream2):\n",
    "    yield ...\n",
    "\n",
    "stream1 = range(0, 10, 2)\n",
    "stream2 = range(1, 10, 2)\n",
    "\n",
    "for x in merge_sorted_stream(stream1, stream2):\n",
    "    print(x)\n",
    "\n",
    "0 \n",
    "1\n",
    "2\n",
    "3\n",
    "4\n",
    "5\n",
    "6\n",
    "7\n",
    "8\n",
    "9\n",
    "```"
   ]
  },
  {
   "cell_type": "code",
   "execution_count": 21,
   "metadata": {},
   "outputs": [],
   "source": [
    "def merge_sorted_stream(stream1, stream2):\n",
    "    itr1 = iter(stream1)\n",
    "    itr2 = iter(stream2)\n",
    "    \n",
    "    itr1_empty = False\n",
    "    itr2_empty = False\n",
    "    \n",
    "    v1 = None\n",
    "    v2 = None\n",
    "    \n",
    "    try:\n",
    "        v1 = next(itr1)\n",
    "    except StopIteration:\n",
    "        itr1_empty = True\n",
    "        \n",
    "    try: \n",
    "        v2 = next(itr2)\n",
    "    except StopIteration:\n",
    "        itr2_empty = True\n",
    "    \n",
    "    while not itr1_empty and not itr2_empty:\n",
    "        if v1 <= v2:\n",
    "            temp = v1\n",
    "            \n",
    "            try:\n",
    "                v1 = next(itr1)\n",
    "            except StopIteration:\n",
    "                itr1_empty = True\n",
    "                \n",
    "            yield temp\n",
    "            \n",
    "        else:\n",
    "            temp = v2\n",
    "            \n",
    "            try:\n",
    "                v2 = next(itr2)\n",
    "            except StopIteration:\n",
    "                itr2_empty = True\n",
    "                \n",
    "            yield temp\n",
    "            \n",
    "    while not itr2_empty:\n",
    "        temp = v2\n",
    "            \n",
    "        try:\n",
    "            v2 = next(itr2)\n",
    "        except StopIteration:\n",
    "            itr2_empty = True\n",
    "\n",
    "        yield temp\n",
    "        \n",
    "    while not itr1_empty:\n",
    "        temp = v1\n",
    "            \n",
    "        try:\n",
    "            v1 = next(itr1)\n",
    "        except StopIteration:\n",
    "            itr1_empty = True\n",
    "\n",
    "        yield temp\n",
    "        \n",
    "    \n",
    "                \n",
    "        \n",
    "    "
   ]
  },
  {
   "cell_type": "code",
   "execution_count": 24,
   "metadata": {},
   "outputs": [
    {
     "name": "stdout",
     "output_type": "stream",
     "text": [
      "1\n",
      "3\n",
      "5\n",
      "7\n",
      "9\n"
     ]
    }
   ],
   "source": [
    "stream1 = range(0, 10, 2)\n",
    "stream2 = range(1, 10, 2)\n",
    "for x in merge_sorted_stream(stream1, stream2):\n",
    "    print(x)"
   ]
  },
  {
   "cell_type": "code",
   "execution_count": 25,
   "metadata": {},
   "outputs": [
    {
     "name": "stdout",
     "output_type": "stream",
     "text": [
      "0\n",
      "1\n",
      "1\n",
      "2\n",
      "3\n",
      "3\n",
      "4\n",
      "5\n",
      "5\n",
      "6\n",
      "7\n",
      "7\n",
      "8\n",
      "9\n",
      "9\n"
     ]
    }
   ],
   "source": [
    "stream1 = range(0, 10, 1)\n",
    "stream2 = range(1, 10, 2)\n",
    "for x in merge_sorted_stream(stream1, stream2):\n",
    "    print(x)"
   ]
  },
  {
   "cell_type": "code",
   "execution_count": 26,
   "metadata": {},
   "outputs": [
    {
     "name": "stdout",
     "output_type": "stream",
     "text": [
      "1\n",
      "3\n",
      "5\n",
      "7\n",
      "9\n"
     ]
    }
   ],
   "source": [
    "stream1 = range(0, 0)\n",
    "stream2 = range(1, 10, 2)\n",
    "for x in merge_sorted_stream(stream1, stream2):\n",
    "    print(x)"
   ]
  },
  {
   "cell_type": "markdown",
   "metadata": {},
   "source": [
    "## Bonus Question"
   ]
  },
  {
   "cell_type": "code",
   "execution_count": 54,
   "metadata": {},
   "outputs": [],
   "source": [
    "from heapq import *\n",
    "def merge_generic_number_of_streams(*args):\n",
    "    k = len(args)\n",
    "    itr_k = [iter(val) for val in args]\n",
    "    itr_empty = [False] * k\n",
    "    value = [None] * k\n",
    "    \n",
    "    for i in range(k):\n",
    "        try:\n",
    "            value[i] = next(itr_k[i])\n",
    "        except StopIteration:\n",
    "            itr_empty[i] = True\n",
    "            \n",
    "    heap = [(value[i], i, itr_k[i]) for i in range(k) if value[i] is not None]\n",
    "    heapify(heap)\n",
    "    \n",
    "    while heap:\n",
    "\n",
    "        val, i, itr = heappop(heap)\n",
    "        yield val\n",
    "        try:\n",
    "            value[i] = next(itr)\n",
    "        except StopIteration:\n",
    "            itr_empty[i] = True\n",
    "            value[i] = None\n",
    "        else:\n",
    "            heappush(heap, (value[i], i, itr))\n",
    "               \n",
    "    "
   ]
  },
  {
   "cell_type": "code",
   "execution_count": 56,
   "metadata": {},
   "outputs": [
    {
     "name": "stdout",
     "output_type": "stream",
     "text": [
      "0\n",
      "1\n",
      "2\n",
      "3\n",
      "4\n",
      "5\n",
      "6\n",
      "7\n",
      "8\n",
      "9\n",
      "10\n",
      "11\n",
      "12\n",
      "13\n",
      "14\n"
     ]
    }
   ],
   "source": [
    "stream1 = range(0, 15, 3)\n",
    "stream2 = range(1, 15, 3)\n",
    "stream3 = range(2, 15, 3)\n",
    "for x in merge_generic_number_of_streams(stream1, stream2, stream3):\n",
    "    print(x)"
   ]
  },
  {
   "cell_type": "code",
   "execution_count": null,
   "metadata": {},
   "outputs": [],
   "source": []
  },
  {
   "cell_type": "code",
   "execution_count": null,
   "metadata": {},
   "outputs": [],
   "source": []
  },
  {
   "cell_type": "code",
   "execution_count": null,
   "metadata": {},
   "outputs": [],
   "source": []
  },
  {
   "cell_type": "markdown",
   "metadata": {},
   "source": [
    "## Tree traversal\n",
    "\n",
    "Unlike linear data structures (Array, Linked List, Queues, Stacks, etc) which have only one logical way to traverse them, trees can be traversed in different ways. Following are the generally used ways for traversing trees.\n",
    "\n",
    "```\n",
    "      1\n",
    "    /  \\ \n",
    "   2    3\n",
    "  / \\\n",
    " 4   5\n",
    "```\n",
    "\n",
    "Depth First Traversals: \n",
    "  * (a) Inorder (Left, Root, Right) : 4 2 5 1 3\n",
    "  * (b) Preorder (Root, Left, Right) : 1 2 4 5 3\n",
    "  * (c) Postorder (Left, Right, Root) : 4 5 2 3 1\n",
    "\n",
    "Define a Tree class with a method that can walk through the tree in different orders. Hint: use generator will make your life a lot easier.\n",
    "\n",
    "```python\n",
    "class TreeNode:\n",
    "    \n",
    "    ...\n",
    "\n",
    "    def in_order(self):\n",
    "        pass\n",
    "        \n",
    "    def pre_order(self):\n",
    "        pass\n",
    "        \n",
    "    def post_order(self):\n",
    "        pass\n",
    "\n",
    "    \n",
    "root = TreeNode(1)\n",
    "root.left = TreeNode(2)\n",
    "root.right = TreeNode(3)\n",
    "root.left.left = TreeNode(4)\n",
    "root.left.right = TreeNode(5)\n",
    "\n",
    ">>> print(' -> '.join(item for item in root.in_order()))\n",
    "4 -> 2 -> 5 -> 1 -> 3    \n",
    "\n",
    "\n",
    "```\n",
    "   "
   ]
  },
  {
   "cell_type": "code",
   "execution_count": 62,
   "metadata": {},
   "outputs": [],
   "source": [
    "class TreeNode:\n",
    "    def __init__(self, val):\n",
    "        self.val = val\n",
    "        self.left = None\n",
    "        self.right = None\n",
    "\n",
    "    def in_order(self):\n",
    "        p = self\n",
    "        s = []\n",
    "        \n",
    "        while p or s:\n",
    "            while p:\n",
    "                s.append(p)\n",
    "                p = p.left\n",
    "                \n",
    "            if s:\n",
    "                p = s[-1]\n",
    "                yield p.val\n",
    "                s.pop()\n",
    "                p = p.right\n",
    "\n",
    "    def pre_order(self):\n",
    "        p = self\n",
    "        s = []\n",
    "        \n",
    "        while p or s:\n",
    "            while p:\n",
    "                s.append(p)\n",
    "                yield p.val\n",
    "                p = p.left\n",
    "                \n",
    "            if s:\n",
    "                p = s[-1]\n",
    "                s.pop()\n",
    "                p = p.right\n",
    "        \n",
    "    def post_order(self):\n",
    "        p = self\n",
    "        s = []\n",
    "        pre = None\n",
    "        \n",
    "        s.append(p)\n",
    "        \n",
    "        while s:\n",
    "            cur = s[-1]\n",
    "            if (not cur.left and not cur.right) or (pre and (pre == cur.left or pre == cur.right)):\n",
    "                yield cur.val\n",
    "                s.pop()\n",
    "                pre = cur\n",
    "                \n",
    "            else:\n",
    "                if cur.right:\n",
    "                    s.append(cur.right)\n",
    "                if cur.left:\n",
    "                    s.append(cur.left)\n",
    "        "
   ]
  },
  {
   "cell_type": "code",
   "execution_count": 63,
   "metadata": {},
   "outputs": [
    {
     "name": "stdout",
     "output_type": "stream",
     "text": [
      "1 -> 2 -> 4 -> 5 -> 3\n",
      "4 -> 2 -> 5 -> 1 -> 3\n",
      "4 -> 5 -> 2 -> 3 -> 1\n"
     ]
    }
   ],
   "source": [
    "root = TreeNode(1)\n",
    "root.left = TreeNode(2)\n",
    "root.right = TreeNode(3)\n",
    "root.left.left = TreeNode(4)\n",
    "root.left.right = TreeNode(5)\n",
    "print(' -> '.join(str(item) for item in root.pre_order()))\n",
    "print(' -> '.join(str(item) for item in root.in_order()))\n",
    "print(' -> '.join(str(item) for item in root.post_order()))"
   ]
  },
  {
   "cell_type": "code",
   "execution_count": null,
   "metadata": {},
   "outputs": [],
   "source": []
  },
  {
   "cell_type": "code",
   "execution_count": null,
   "metadata": {},
   "outputs": [],
   "source": []
  },
  {
   "cell_type": "markdown",
   "metadata": {},
   "source": [
    "## Implement a timer\n",
    "Implement a timer that can print the execution time of your code. Try to implement it both as a decorator and as a context manager to compare the implementations. Can you implement it using one single class? \n",
    "\n",
    "Example:\n",
    "```python\n",
    "import time\n",
    "\n",
    "\n",
    "with timer() as timer:\n",
    "    time.sleep(3)\n",
    "\n",
    "# Total execution time: 3.000123 seconds (a made up number)\n",
    "\n",
    "\n",
    "@timer\n",
    "def sleep(secs):\n",
    "    time.sleep(secs)\n",
    "    \n",
    "sleep(3)\n",
    "# Total execution time: 3.000123 seconds (a made up number)\n",
    "```\n",
    "\n",
    "Below is the code snippet to measure the time:\n",
    "```python    \n",
    "import time\n",
    "start_time = time.time()\n",
    "main()\n",
    "print(f\"--- {time.time() - start_time} seconds ---\"\n",
    "```"
   ]
  },
  {
   "cell_type": "code",
   "execution_count": 141,
   "metadata": {},
   "outputs": [],
   "source": [
    "import time\n",
    "import functools\n",
    "class timer:\n",
    "    \n",
    "    def __init__(self, what=None):\n",
    "        self.what = what #For decorator, the function is passed in here\n",
    "    \n",
    "    def __call__(self, *sec): #the parameteres are passed in here\n",
    "        '''\n",
    "            Decorator Method\n",
    "        '''\n",
    "        start_time = time.time()\n",
    "        self.what(*sec)\n",
    "        print(f\"--- {time.time() - start_time} seconds ---\")\n",
    "        \n",
    "    \n",
    "    '''\n",
    "        Context Manager\n",
    "    '''\n",
    "    def __enter__(self):\n",
    "        self.start_time = time.time()\n",
    "        \n",
    "    def __exit__(self, exc_type, exc_val, exc_tb):\n",
    "        print(f\"--- {time.time() - self.start_time} seconds ---\")\n",
    "            "
   ]
  },
  {
   "cell_type": "code",
   "execution_count": 142,
   "metadata": {},
   "outputs": [
    {
     "name": "stdout",
     "output_type": "stream",
     "text": [
      "--- 1.0007085800170898 seconds ---\n"
     ]
    }
   ],
   "source": [
    "#Decorator\n",
    "@timer\n",
    "def sleep(secs):\n",
    "    time.sleep(secs)\n",
    "    \n",
    "sleep(1)"
   ]
  },
  {
   "cell_type": "code",
   "execution_count": 140,
   "metadata": {},
   "outputs": [
    {
     "name": "stdout",
     "output_type": "stream",
     "text": [
      "--- 1.0005419254302979 seconds ---\n"
     ]
    }
   ],
   "source": [
    "#Context Manager\n",
    "with timer() as timer:\n",
    "    time.sleep(1)"
   ]
  },
  {
   "cell_type": "code",
   "execution_count": 144,
   "metadata": {},
   "outputs": [
    {
     "name": "stdout",
     "output_type": "stream",
     "text": [
      "--- 0.003991127014160156 seconds ---\n"
     ]
    }
   ],
   "source": [
    "@timer\n",
    "def running(a, b, c):\n",
    "    return [i for i in range(a, b, c)]\n",
    "\n",
    "running(1, 100000, 2)"
   ]
  },
  {
   "cell_type": "code",
   "execution_count": 145,
   "metadata": {},
   "outputs": [
    {
     "name": "stdout",
     "output_type": "stream",
     "text": [
      "--- 0.001994609832763672 seconds ---\n"
     ]
    }
   ],
   "source": [
    "with timer() as timer:\n",
    "    for i in range(1, 100000, 2):\n",
    "        continue"
   ]
  },
  {
   "cell_type": "code",
   "execution_count": null,
   "metadata": {},
   "outputs": [],
   "source": []
  }
 ],
 "metadata": {
  "kernelspec": {
   "display_name": "Python 3",
   "language": "python",
   "name": "python3"
  },
  "language_info": {
   "codemirror_mode": {
    "name": "ipython",
    "version": 3
   },
   "file_extension": ".py",
   "mimetype": "text/x-python",
   "name": "python",
   "nbconvert_exporter": "python",
   "pygments_lexer": "ipython3",
   "version": "3.7.1"
  },
  "toc": {
   "base_numbering": 1,
   "nav_menu": {},
   "number_sections": true,
   "sideBar": true,
   "skip_h1_title": false,
   "title_cell": "Table of Contents",
   "title_sidebar": "Contents",
   "toc_cell": false,
   "toc_position": {},
   "toc_section_display": true,
   "toc_window_display": false
  },
  "varInspector": {
   "cols": {
    "lenName": 16,
    "lenType": 16,
    "lenVar": 40
   },
   "kernels_config": {
    "python": {
     "delete_cmd_postfix": "",
     "delete_cmd_prefix": "del ",
     "library": "var_list.py",
     "varRefreshCmd": "print(var_dic_list())"
    },
    "r": {
     "delete_cmd_postfix": ") ",
     "delete_cmd_prefix": "rm(",
     "library": "var_list.r",
     "varRefreshCmd": "cat(var_dic_list()) "
    }
   },
   "types_to_exclude": [
    "module",
    "function",
    "builtin_function_or_method",
    "instance",
    "_Feature"
   ],
   "window_display": false
  }
 },
 "nbformat": 4,
 "nbformat_minor": 4
}
