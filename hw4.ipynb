{
 "cells": [
  {
   "cell_type": "code",
   "execution_count": 1,
   "metadata": {},
   "outputs": [
    {
     "data": {
      "text/html": [
       "<style>.container { width:100% !important; }</style>"
      ],
      "text/plain": [
       "<IPython.core.display.HTML object>"
      ]
     },
     "metadata": {},
     "output_type": "display_data"
    }
   ],
   "source": [
    "from IPython.core.display import display, HTML\n",
    "display(HTML(\"<style>.container { width:100% !important; }</style>\"))\n",
    "import pandas as pd\n",
    "import numpy as np\n",
    "import matplotlib.pyplot as plt"
   ]
  },
  {
   "cell_type": "markdown",
   "metadata": {},
   "source": [
    "# Question 1 Exploratory Data Analysis"
   ]
  },
  {
   "cell_type": "markdown",
   "metadata": {},
   "source": [
    "* From example/input/ load compustat.csv inside compustat.zip  without unzip compustat.zip\n",
    "* 1. Variable names that we are interested in:\n",
    "    * sic code: four digits integer for company\n",
    "    * datecqtr: year/ quarter time for the record\n",
    "    * cusip: compustats identifier for a company\n",
    "    * chod: shares out of standing (in million)\n",
    "    * saleq: sales of current quarter (in million)\n",
    "    * prccq: close price of current quarter (in dollar)\n",
    "    \n",
    "* 2. For saleq and market cap, compute the following:\n",
    "    * Time series mean \n",
    "    * Time Series standard deviation\n",
    "    * Time Series count of missing values\n",
    "    * Time Series ratio of missing values\n",
    "    * Aggregate the result in a dataframe\n",
    "        \n",
    "* 3. Answer the following questions:\n",
    "    * Before computing any value, what kinds of descriptive analysis would you do to check if there are outliers?\n",
    "    * Implement some schemes to detect outliers.\n",
    "    * Do you find some outliers? Could you think why? You can do some research using google.\n",
    "    * What kinds of conclusion you can get from analyzing the table you get in 2? You can make some plots to illustrate."
   ]
  },
  {
   "cell_type": "code",
   "execution_count": 2,
   "metadata": {},
   "outputs": [],
   "source": [
    "from zipfile import ZipFile\n",
    "zip_data = ZipFile(\"C:\\\\Users\\\\Toby Jing\\\\Desktop\\\\Toby\\\\Toby\\\\Master\\\\Immersion\\\\Week5\\\\python-workshop-master (1)\\\\python-workshop-master\\\\session4\\\\example\\\\input\\\\compustat.zip\")\n",
    "f = zip_data.open('compustat.csv')\n",
    "data = pd.read_csv(f)"
   ]
  },
  {
   "cell_type": "code",
   "execution_count": 3,
   "metadata": {},
   "outputs": [
    {
     "data": {
      "text/plain": [
       "Index(['gvkey', 'datadate', 'fyearq', 'fqtr', 'indfmt', 'consol', 'popsrc',\n",
       "       'datafmt', 'cusip', 'curcdq', 'datacqtr', 'datafqtr', 'cshoq', 'saleq',\n",
       "       'costat', 'prccq', 'sic'],\n",
       "      dtype='object')"
      ]
     },
     "execution_count": 3,
     "metadata": {},
     "output_type": "execute_result"
    }
   ],
   "source": [
    "data.columns"
   ]
  },
  {
   "cell_type": "code",
   "execution_count": 4,
   "metadata": {},
   "outputs": [
    {
     "data": {
      "text/plain": [
       "(1811299, 6)"
      ]
     },
     "execution_count": 4,
     "metadata": {},
     "output_type": "execute_result"
    }
   ],
   "source": [
    "data = data[[\"sic\", \"datacqtr\", \"cusip\", \"cshoq\", \"saleq\", \"prccq\"]]\n",
    "data.shape"
   ]
  },
  {
   "cell_type": "code",
   "execution_count": 5,
   "metadata": {},
   "outputs": [
    {
     "data": {
      "text/plain": [
       "Index(['sic', 'datacqtr', 'cusip', 'cshoq', 'saleq', 'prccq', 'mktcap'], dtype='object')"
      ]
     },
     "execution_count": 5,
     "metadata": {},
     "output_type": "execute_result"
    }
   ],
   "source": [
    "#Q2: Solution\n",
    "data[\"mktcap\"] = data[\"cshoq\"] * data[\"prccq\"] #Market Cap = No. Of Shares * Close Price\n",
    "data.columns"
   ]
  },
  {
   "cell_type": "code",
   "execution_count": 6,
   "metadata": {},
   "outputs": [
    {
     "data": {
      "text/html": [
       "<div>\n",
       "<style scoped>\n",
       "    .dataframe tbody tr th:only-of-type {\n",
       "        vertical-align: middle;\n",
       "    }\n",
       "\n",
       "    .dataframe tbody tr th {\n",
       "        vertical-align: top;\n",
       "    }\n",
       "\n",
       "    .dataframe thead th {\n",
       "        text-align: right;\n",
       "    }\n",
       "</style>\n",
       "<table border=\"1\" class=\"dataframe\">\n",
       "  <thead>\n",
       "    <tr style=\"text-align: right;\">\n",
       "      <th></th>\n",
       "      <th>sic</th>\n",
       "      <th>datacqtr</th>\n",
       "      <th>cusip</th>\n",
       "      <th>cshoq</th>\n",
       "      <th>saleq</th>\n",
       "      <th>prccq</th>\n",
       "      <th>mktcap</th>\n",
       "    </tr>\n",
       "  </thead>\n",
       "  <tbody>\n",
       "    <tr>\n",
       "      <th>0</th>\n",
       "      <td>3089.0</td>\n",
       "      <td>1966Q1</td>\n",
       "      <td>000032102</td>\n",
       "      <td>0.219</td>\n",
       "      <td>NaN</td>\n",
       "      <td>NaN</td>\n",
       "      <td>NaN</td>\n",
       "    </tr>\n",
       "    <tr>\n",
       "      <th>1</th>\n",
       "      <td>3089.0</td>\n",
       "      <td>1966Q2</td>\n",
       "      <td>000032102</td>\n",
       "      <td>0.219</td>\n",
       "      <td>NaN</td>\n",
       "      <td>NaN</td>\n",
       "      <td>NaN</td>\n",
       "    </tr>\n",
       "    <tr>\n",
       "      <th>2</th>\n",
       "      <td>3089.0</td>\n",
       "      <td>1966Q3</td>\n",
       "      <td>000032102</td>\n",
       "      <td>0.219</td>\n",
       "      <td>NaN</td>\n",
       "      <td>NaN</td>\n",
       "      <td>NaN</td>\n",
       "    </tr>\n",
       "    <tr>\n",
       "      <th>3</th>\n",
       "      <td>3089.0</td>\n",
       "      <td>1966Q4</td>\n",
       "      <td>000032102</td>\n",
       "      <td>0.219</td>\n",
       "      <td>4.032</td>\n",
       "      <td>NaN</td>\n",
       "      <td>NaN</td>\n",
       "    </tr>\n",
       "    <tr>\n",
       "      <th>4</th>\n",
       "      <td>3089.0</td>\n",
       "      <td>1967Q1</td>\n",
       "      <td>000032102</td>\n",
       "      <td>0.277</td>\n",
       "      <td>NaN</td>\n",
       "      <td>NaN</td>\n",
       "      <td>NaN</td>\n",
       "    </tr>\n",
       "  </tbody>\n",
       "</table>\n",
       "</div>"
      ],
      "text/plain": [
       "      sic datacqtr      cusip  cshoq  saleq  prccq  mktcap\n",
       "0  3089.0   1966Q1  000032102  0.219    NaN    NaN     NaN\n",
       "1  3089.0   1966Q2  000032102  0.219    NaN    NaN     NaN\n",
       "2  3089.0   1966Q3  000032102  0.219    NaN    NaN     NaN\n",
       "3  3089.0   1966Q4  000032102  0.219  4.032    NaN     NaN\n",
       "4  3089.0   1967Q1  000032102  0.277    NaN    NaN     NaN"
      ]
     },
     "execution_count": 6,
     "metadata": {},
     "output_type": "execute_result"
    }
   ],
   "source": [
    "data.head()"
   ]
  },
  {
   "cell_type": "code",
   "execution_count": 7,
   "metadata": {},
   "outputs": [
    {
     "data": {
      "text/html": [
       "<div>\n",
       "<style scoped>\n",
       "    .dataframe tbody tr th:only-of-type {\n",
       "        vertical-align: middle;\n",
       "    }\n",
       "\n",
       "    .dataframe tbody tr th {\n",
       "        vertical-align: top;\n",
       "    }\n",
       "\n",
       "    .dataframe thead th {\n",
       "        text-align: right;\n",
       "    }\n",
       "</style>\n",
       "<table border=\"1\" class=\"dataframe\">\n",
       "  <thead>\n",
       "    <tr style=\"text-align: right;\">\n",
       "      <th></th>\n",
       "      <th></th>\n",
       "      <th>Mean</th>\n",
       "      <th>Standard Deviation</th>\n",
       "      <th>Missing Value Count</th>\n",
       "      <th>Missing Value Ratio</th>\n",
       "    </tr>\n",
       "    <tr>\n",
       "      <th></th>\n",
       "      <th>sic</th>\n",
       "      <th></th>\n",
       "      <th></th>\n",
       "      <th></th>\n",
       "      <th></th>\n",
       "    </tr>\n",
       "  </thead>\n",
       "  <tbody>\n",
       "    <tr>\n",
       "      <th rowspan=\"5\" valign=\"top\">saleq</th>\n",
       "      <th>100.0</th>\n",
       "      <td>210.761569</td>\n",
       "      <td>153.793232</td>\n",
       "      <td>13</td>\n",
       "      <td>0.054622</td>\n",
       "    </tr>\n",
       "    <tr>\n",
       "      <th>200.0</th>\n",
       "      <td>45.730984</td>\n",
       "      <td>57.098003</td>\n",
       "      <td>80</td>\n",
       "      <td>0.336134</td>\n",
       "    </tr>\n",
       "    <tr>\n",
       "      <th>700.0</th>\n",
       "      <td>69.080662</td>\n",
       "      <td>89.566404</td>\n",
       "      <td>21</td>\n",
       "      <td>0.088235</td>\n",
       "    </tr>\n",
       "    <tr>\n",
       "      <th>800.0</th>\n",
       "      <td>19.299191</td>\n",
       "      <td>20.465293</td>\n",
       "      <td>53</td>\n",
       "      <td>0.222689</td>\n",
       "    </tr>\n",
       "    <tr>\n",
       "      <th>900.0</th>\n",
       "      <td>11.289268</td>\n",
       "      <td>5.561760</td>\n",
       "      <td>141</td>\n",
       "      <td>0.592437</td>\n",
       "    </tr>\n",
       "  </tbody>\n",
       "</table>\n",
       "</div>"
      ],
      "text/plain": [
       "                   Mean  Standard Deviation  Missing Value Count  \\\n",
       "      sic                                                          \n",
       "saleq 100.0  210.761569          153.793232                   13   \n",
       "      200.0   45.730984           57.098003                   80   \n",
       "      700.0   69.080662           89.566404                   21   \n",
       "      800.0   19.299191           20.465293                   53   \n",
       "      900.0   11.289268            5.561760                  141   \n",
       "\n",
       "             Missing Value Ratio  \n",
       "      sic                         \n",
       "saleq 100.0             0.054622  \n",
       "      200.0             0.336134  \n",
       "      700.0             0.088235  \n",
       "      800.0             0.222689  \n",
       "      900.0             0.592437  "
      ]
     },
     "execution_count": 7,
     "metadata": {},
     "output_type": "execute_result"
    }
   ],
   "source": [
    "sales = data.pivot_table(values=['saleq'], index=['datacqtr'], columns=['sic'])\n",
    "sales_summary = pd.concat([sales.mean(), sales.std(), sales.isnull().sum(), sales.isnull().sum() / sales.shape[0]], axis=1)\n",
    "sales_summary.columns = [\"Mean\", \"Standard Deviation\", \"Missing Value Count\", \"Missing Value Ratio\"]\n",
    "sales_summary.head()"
   ]
  },
  {
   "cell_type": "code",
   "execution_count": 8,
   "metadata": {},
   "outputs": [
    {
     "data": {
      "text/html": [
       "<div>\n",
       "<style scoped>\n",
       "    .dataframe tbody tr th:only-of-type {\n",
       "        vertical-align: middle;\n",
       "    }\n",
       "\n",
       "    .dataframe tbody tr th {\n",
       "        vertical-align: top;\n",
       "    }\n",
       "\n",
       "    .dataframe thead th {\n",
       "        text-align: right;\n",
       "    }\n",
       "</style>\n",
       "<table border=\"1\" class=\"dataframe\">\n",
       "  <thead>\n",
       "    <tr style=\"text-align: right;\">\n",
       "      <th></th>\n",
       "      <th></th>\n",
       "      <th>Mean</th>\n",
       "      <th>Standard Deviation</th>\n",
       "      <th>Missing Value Count</th>\n",
       "      <th>Missing Value Ratio</th>\n",
       "    </tr>\n",
       "    <tr>\n",
       "      <th></th>\n",
       "      <th>sic</th>\n",
       "      <th></th>\n",
       "      <th></th>\n",
       "      <th></th>\n",
       "      <th></th>\n",
       "    </tr>\n",
       "  </thead>\n",
       "  <tbody>\n",
       "    <tr>\n",
       "      <th rowspan=\"5\" valign=\"top\">mktcap</th>\n",
       "      <th>100.0</th>\n",
       "      <td>1026.641305</td>\n",
       "      <td>1318.409211</td>\n",
       "      <td>23</td>\n",
       "      <td>0.098291</td>\n",
       "    </tr>\n",
       "    <tr>\n",
       "      <th>200.0</th>\n",
       "      <td>196.623839</td>\n",
       "      <td>293.130388</td>\n",
       "      <td>82</td>\n",
       "      <td>0.350427</td>\n",
       "    </tr>\n",
       "    <tr>\n",
       "      <th>700.0</th>\n",
       "      <td>437.762736</td>\n",
       "      <td>606.465125</td>\n",
       "      <td>49</td>\n",
       "      <td>0.209402</td>\n",
       "    </tr>\n",
       "    <tr>\n",
       "      <th>800.0</th>\n",
       "      <td>211.645994</td>\n",
       "      <td>246.173201</td>\n",
       "      <td>64</td>\n",
       "      <td>0.273504</td>\n",
       "    </tr>\n",
       "    <tr>\n",
       "      <th>900.0</th>\n",
       "      <td>20.414270</td>\n",
       "      <td>7.095283</td>\n",
       "      <td>173</td>\n",
       "      <td>0.739316</td>\n",
       "    </tr>\n",
       "  </tbody>\n",
       "</table>\n",
       "</div>"
      ],
      "text/plain": [
       "                     Mean  Standard Deviation  Missing Value Count  \\\n",
       "       sic                                                           \n",
       "mktcap 100.0  1026.641305         1318.409211                   23   \n",
       "       200.0   196.623839          293.130388                   82   \n",
       "       700.0   437.762736          606.465125                   49   \n",
       "       800.0   211.645994          246.173201                   64   \n",
       "       900.0    20.414270            7.095283                  173   \n",
       "\n",
       "              Missing Value Ratio  \n",
       "       sic                         \n",
       "mktcap 100.0             0.098291  \n",
       "       200.0             0.350427  \n",
       "       700.0             0.209402  \n",
       "       800.0             0.273504  \n",
       "       900.0             0.739316  "
      ]
     },
     "execution_count": 8,
     "metadata": {},
     "output_type": "execute_result"
    }
   ],
   "source": [
    "mktcap = data.pivot_table(values=['mktcap'], index=['datacqtr'], columns=['sic'])\n",
    "mktcap_summary = pd.concat([mktcap.mean(), mktcap.std(), mktcap.isnull().sum(), mktcap.isnull().sum() / mktcap.shape[0]], axis=1)\n",
    "mktcap_summary.columns = [\"Mean\", \"Standard Deviation\", \"Missing Value Count\", \"Missing Value Ratio\"]\n",
    "mktcap_summary.head()"
   ]
  },
  {
   "cell_type": "code",
   "execution_count": 9,
   "metadata": {
    "scrolled": true
   },
   "outputs": [
    {
     "data": {
      "text/html": [
       "<div>\n",
       "<style scoped>\n",
       "    .dataframe tbody tr th:only-of-type {\n",
       "        vertical-align: middle;\n",
       "    }\n",
       "\n",
       "    .dataframe tbody tr th {\n",
       "        vertical-align: top;\n",
       "    }\n",
       "\n",
       "    .dataframe thead th {\n",
       "        text-align: right;\n",
       "    }\n",
       "</style>\n",
       "<table border=\"1\" class=\"dataframe\">\n",
       "  <thead>\n",
       "    <tr style=\"text-align: right;\">\n",
       "      <th></th>\n",
       "      <th></th>\n",
       "      <th>Mean</th>\n",
       "      <th>Standard Deviation</th>\n",
       "      <th>Missing Value Count</th>\n",
       "      <th>Missing Value Ratio</th>\n",
       "    </tr>\n",
       "    <tr>\n",
       "      <th></th>\n",
       "      <th>sic</th>\n",
       "      <th></th>\n",
       "      <th></th>\n",
       "      <th></th>\n",
       "      <th></th>\n",
       "    </tr>\n",
       "  </thead>\n",
       "  <tbody>\n",
       "    <tr>\n",
       "      <th rowspan=\"30\" valign=\"top\">saleq</th>\n",
       "      <th>100.0</th>\n",
       "      <td>210.761569</td>\n",
       "      <td>153.793232</td>\n",
       "      <td>13</td>\n",
       "      <td>0.054622</td>\n",
       "    </tr>\n",
       "    <tr>\n",
       "      <th>200.0</th>\n",
       "      <td>45.730984</td>\n",
       "      <td>57.098003</td>\n",
       "      <td>80</td>\n",
       "      <td>0.336134</td>\n",
       "    </tr>\n",
       "    <tr>\n",
       "      <th>700.0</th>\n",
       "      <td>69.080662</td>\n",
       "      <td>89.566404</td>\n",
       "      <td>21</td>\n",
       "      <td>0.088235</td>\n",
       "    </tr>\n",
       "    <tr>\n",
       "      <th>800.0</th>\n",
       "      <td>19.299191</td>\n",
       "      <td>20.465293</td>\n",
       "      <td>53</td>\n",
       "      <td>0.222689</td>\n",
       "    </tr>\n",
       "    <tr>\n",
       "      <th>900.0</th>\n",
       "      <td>11.289268</td>\n",
       "      <td>5.561760</td>\n",
       "      <td>141</td>\n",
       "      <td>0.592437</td>\n",
       "    </tr>\n",
       "    <tr>\n",
       "      <th>1000.0</th>\n",
       "      <td>138.864482</td>\n",
       "      <td>124.434684</td>\n",
       "      <td>4</td>\n",
       "      <td>0.016807</td>\n",
       "    </tr>\n",
       "    <tr>\n",
       "      <th>1040.0</th>\n",
       "      <td>29.934386</td>\n",
       "      <td>16.634485</td>\n",
       "      <td>19</td>\n",
       "      <td>0.079832</td>\n",
       "    </tr>\n",
       "    <tr>\n",
       "      <th>1044.0</th>\n",
       "      <td>6.240967</td>\n",
       "      <td>4.638450</td>\n",
       "      <td>22</td>\n",
       "      <td>0.092437</td>\n",
       "    </tr>\n",
       "    <tr>\n",
       "      <th>1090.0</th>\n",
       "      <td>15.516840</td>\n",
       "      <td>9.831098</td>\n",
       "      <td>34</td>\n",
       "      <td>0.142857</td>\n",
       "    </tr>\n",
       "    <tr>\n",
       "      <th>1220.0</th>\n",
       "      <td>150.659496</td>\n",
       "      <td>114.447711</td>\n",
       "      <td>5</td>\n",
       "      <td>0.021008</td>\n",
       "    </tr>\n",
       "    <tr>\n",
       "      <th>1221.0</th>\n",
       "      <td>176.266895</td>\n",
       "      <td>206.627857</td>\n",
       "      <td>5</td>\n",
       "      <td>0.021008</td>\n",
       "    </tr>\n",
       "    <tr>\n",
       "      <th>1311.0</th>\n",
       "      <td>164.144059</td>\n",
       "      <td>95.387297</td>\n",
       "      <td>2</td>\n",
       "      <td>0.008403</td>\n",
       "    </tr>\n",
       "    <tr>\n",
       "      <th>1381.0</th>\n",
       "      <td>185.692195</td>\n",
       "      <td>188.833311</td>\n",
       "      <td>4</td>\n",
       "      <td>0.016807</td>\n",
       "    </tr>\n",
       "    <tr>\n",
       "      <th>1382.0</th>\n",
       "      <td>98.708876</td>\n",
       "      <td>47.750417</td>\n",
       "      <td>3</td>\n",
       "      <td>0.012605</td>\n",
       "    </tr>\n",
       "    <tr>\n",
       "      <th>1389.0</th>\n",
       "      <td>332.091749</td>\n",
       "      <td>251.646316</td>\n",
       "      <td>4</td>\n",
       "      <td>0.016807</td>\n",
       "    </tr>\n",
       "    <tr>\n",
       "      <th>1400.0</th>\n",
       "      <td>113.294800</td>\n",
       "      <td>93.685515</td>\n",
       "      <td>4</td>\n",
       "      <td>0.016807</td>\n",
       "    </tr>\n",
       "    <tr>\n",
       "      <th>1520.0</th>\n",
       "      <td>88.744489</td>\n",
       "      <td>84.928169</td>\n",
       "      <td>38</td>\n",
       "      <td>0.159664</td>\n",
       "    </tr>\n",
       "    <tr>\n",
       "      <th>1531.0</th>\n",
       "      <td>312.088871</td>\n",
       "      <td>394.915490</td>\n",
       "      <td>21</td>\n",
       "      <td>0.088235</td>\n",
       "    </tr>\n",
       "    <tr>\n",
       "      <th>1540.0</th>\n",
       "      <td>210.649587</td>\n",
       "      <td>111.315080</td>\n",
       "      <td>27</td>\n",
       "      <td>0.113445</td>\n",
       "    </tr>\n",
       "    <tr>\n",
       "      <th>1600.0</th>\n",
       "      <td>352.577404</td>\n",
       "      <td>246.082707</td>\n",
       "      <td>4</td>\n",
       "      <td>0.016807</td>\n",
       "    </tr>\n",
       "    <tr>\n",
       "      <th>1623.0</th>\n",
       "      <td>158.203084</td>\n",
       "      <td>193.513572</td>\n",
       "      <td>32</td>\n",
       "      <td>0.134454</td>\n",
       "    </tr>\n",
       "    <tr>\n",
       "      <th>1700.0</th>\n",
       "      <td>66.267351</td>\n",
       "      <td>79.050512</td>\n",
       "      <td>27</td>\n",
       "      <td>0.113445</td>\n",
       "    </tr>\n",
       "    <tr>\n",
       "      <th>1731.0</th>\n",
       "      <td>306.685628</td>\n",
       "      <td>410.150783</td>\n",
       "      <td>20</td>\n",
       "      <td>0.084034</td>\n",
       "    </tr>\n",
       "    <tr>\n",
       "      <th>2000.0</th>\n",
       "      <td>2194.469890</td>\n",
       "      <td>2062.985773</td>\n",
       "      <td>1</td>\n",
       "      <td>0.004202</td>\n",
       "    </tr>\n",
       "    <tr>\n",
       "      <th>2011.0</th>\n",
       "      <td>1292.063902</td>\n",
       "      <td>1216.362118</td>\n",
       "      <td>13</td>\n",
       "      <td>0.054622</td>\n",
       "    </tr>\n",
       "    <tr>\n",
       "      <th>2013.0</th>\n",
       "      <td>495.397362</td>\n",
       "      <td>340.115005</td>\n",
       "      <td>3</td>\n",
       "      <td>0.012605</td>\n",
       "    </tr>\n",
       "    <tr>\n",
       "      <th>2015.0</th>\n",
       "      <td>353.748445</td>\n",
       "      <td>366.151457</td>\n",
       "      <td>23</td>\n",
       "      <td>0.096639</td>\n",
       "    </tr>\n",
       "    <tr>\n",
       "      <th>2020.0</th>\n",
       "      <td>335.611330</td>\n",
       "      <td>425.106274</td>\n",
       "      <td>22</td>\n",
       "      <td>0.092437</td>\n",
       "    </tr>\n",
       "    <tr>\n",
       "      <th>2024.0</th>\n",
       "      <td>29.144757</td>\n",
       "      <td>36.840266</td>\n",
       "      <td>81</td>\n",
       "      <td>0.340336</td>\n",
       "    </tr>\n",
       "    <tr>\n",
       "      <th>2030.0</th>\n",
       "      <td>390.490497</td>\n",
       "      <td>286.623747</td>\n",
       "      <td>1</td>\n",
       "      <td>0.004202</td>\n",
       "    </tr>\n",
       "    <tr>\n",
       "      <th>...</th>\n",
       "      <th>...</th>\n",
       "      <td>...</td>\n",
       "      <td>...</td>\n",
       "      <td>...</td>\n",
       "      <td>...</td>\n",
       "    </tr>\n",
       "    <tr>\n",
       "      <th rowspan=\"30\" valign=\"top\">mktcap</th>\n",
       "      <th>7996.0</th>\n",
       "      <td>869.737707</td>\n",
       "      <td>765.961752</td>\n",
       "      <td>80</td>\n",
       "      <td>0.341880</td>\n",
       "    </tr>\n",
       "    <tr>\n",
       "      <th>7997.0</th>\n",
       "      <td>573.572300</td>\n",
       "      <td>741.869577</td>\n",
       "      <td>109</td>\n",
       "      <td>0.465812</td>\n",
       "    </tr>\n",
       "    <tr>\n",
       "      <th>8000.0</th>\n",
       "      <td>125.265232</td>\n",
       "      <td>108.100317</td>\n",
       "      <td>92</td>\n",
       "      <td>0.393162</td>\n",
       "    </tr>\n",
       "    <tr>\n",
       "      <th>8011.0</th>\n",
       "      <td>436.043578</td>\n",
       "      <td>669.110980</td>\n",
       "      <td>35</td>\n",
       "      <td>0.149573</td>\n",
       "    </tr>\n",
       "    <tr>\n",
       "      <th>8050.0</th>\n",
       "      <td>578.226438</td>\n",
       "      <td>798.911842</td>\n",
       "      <td>79</td>\n",
       "      <td>0.337607</td>\n",
       "    </tr>\n",
       "    <tr>\n",
       "      <th>8051.0</th>\n",
       "      <td>344.922508</td>\n",
       "      <td>295.776049</td>\n",
       "      <td>31</td>\n",
       "      <td>0.132479</td>\n",
       "    </tr>\n",
       "    <tr>\n",
       "      <th>8060.0</th>\n",
       "      <td>395.980106</td>\n",
       "      <td>400.810620</td>\n",
       "      <td>32</td>\n",
       "      <td>0.136752</td>\n",
       "    </tr>\n",
       "    <tr>\n",
       "      <th>8062.0</th>\n",
       "      <td>2569.917673</td>\n",
       "      <td>3358.376748</td>\n",
       "      <td>24</td>\n",
       "      <td>0.102564</td>\n",
       "    </tr>\n",
       "    <tr>\n",
       "      <th>8071.0</th>\n",
       "      <td>599.737201</td>\n",
       "      <td>1205.207650</td>\n",
       "      <td>28</td>\n",
       "      <td>0.119658</td>\n",
       "    </tr>\n",
       "    <tr>\n",
       "      <th>8082.0</th>\n",
       "      <td>375.515204</td>\n",
       "      <td>714.967333</td>\n",
       "      <td>47</td>\n",
       "      <td>0.200855</td>\n",
       "    </tr>\n",
       "    <tr>\n",
       "      <th>8090.0</th>\n",
       "      <td>678.846472</td>\n",
       "      <td>755.827212</td>\n",
       "      <td>45</td>\n",
       "      <td>0.192308</td>\n",
       "    </tr>\n",
       "    <tr>\n",
       "      <th>8093.0</th>\n",
       "      <td>151.098135</td>\n",
       "      <td>123.418849</td>\n",
       "      <td>82</td>\n",
       "      <td>0.350427</td>\n",
       "    </tr>\n",
       "    <tr>\n",
       "      <th>8111.0</th>\n",
       "      <td>1605.330193</td>\n",
       "      <td>2361.507076</td>\n",
       "      <td>135</td>\n",
       "      <td>0.576923</td>\n",
       "    </tr>\n",
       "    <tr>\n",
       "      <th>8200.0</th>\n",
       "      <td>565.604428</td>\n",
       "      <td>544.157381</td>\n",
       "      <td>24</td>\n",
       "      <td>0.102564</td>\n",
       "    </tr>\n",
       "    <tr>\n",
       "      <th>8300.0</th>\n",
       "      <td>237.552174</td>\n",
       "      <td>234.310529</td>\n",
       "      <td>81</td>\n",
       "      <td>0.346154</td>\n",
       "    </tr>\n",
       "    <tr>\n",
       "      <th>8351.0</th>\n",
       "      <td>1187.989849</td>\n",
       "      <td>2035.978960</td>\n",
       "      <td>98</td>\n",
       "      <td>0.418803</td>\n",
       "    </tr>\n",
       "    <tr>\n",
       "      <th>8400.0</th>\n",
       "      <td>7.548196</td>\n",
       "      <td>4.995229</td>\n",
       "      <td>219</td>\n",
       "      <td>0.935897</td>\n",
       "    </tr>\n",
       "    <tr>\n",
       "      <th>8600.0</th>\n",
       "      <td>162.072623</td>\n",
       "      <td>207.234106</td>\n",
       "      <td>216</td>\n",
       "      <td>0.923077</td>\n",
       "    </tr>\n",
       "    <tr>\n",
       "      <th>8700.0</th>\n",
       "      <td>1083.074679</td>\n",
       "      <td>1831.463217</td>\n",
       "      <td>17</td>\n",
       "      <td>0.072650</td>\n",
       "    </tr>\n",
       "    <tr>\n",
       "      <th>8711.0</th>\n",
       "      <td>464.470540</td>\n",
       "      <td>546.626789</td>\n",
       "      <td>27</td>\n",
       "      <td>0.115385</td>\n",
       "    </tr>\n",
       "    <tr>\n",
       "      <th>8721.0</th>\n",
       "      <td>1810.799479</td>\n",
       "      <td>1587.784173</td>\n",
       "      <td>37</td>\n",
       "      <td>0.158120</td>\n",
       "    </tr>\n",
       "    <tr>\n",
       "      <th>8731.0</th>\n",
       "      <td>850.256128</td>\n",
       "      <td>1599.771797</td>\n",
       "      <td>71</td>\n",
       "      <td>0.303419</td>\n",
       "    </tr>\n",
       "    <tr>\n",
       "      <th>8734.0</th>\n",
       "      <td>143.100716</td>\n",
       "      <td>152.869490</td>\n",
       "      <td>37</td>\n",
       "      <td>0.158120</td>\n",
       "    </tr>\n",
       "    <tr>\n",
       "      <th>8741.0</th>\n",
       "      <td>318.845679</td>\n",
       "      <td>341.765849</td>\n",
       "      <td>38</td>\n",
       "      <td>0.162393</td>\n",
       "    </tr>\n",
       "    <tr>\n",
       "      <th>8742.0</th>\n",
       "      <td>1312.862773</td>\n",
       "      <td>4763.182311</td>\n",
       "      <td>16</td>\n",
       "      <td>0.068376</td>\n",
       "    </tr>\n",
       "    <tr>\n",
       "      <th>8744.0</th>\n",
       "      <td>133.026236</td>\n",
       "      <td>183.216280</td>\n",
       "      <td>39</td>\n",
       "      <td>0.166667</td>\n",
       "    </tr>\n",
       "    <tr>\n",
       "      <th>8900.0</th>\n",
       "      <td>35.620137</td>\n",
       "      <td>31.784375</td>\n",
       "      <td>205</td>\n",
       "      <td>0.876068</td>\n",
       "    </tr>\n",
       "    <tr>\n",
       "      <th>9995.0</th>\n",
       "      <td>185.027985</td>\n",
       "      <td>334.869757</td>\n",
       "      <td>22</td>\n",
       "      <td>0.094017</td>\n",
       "    </tr>\n",
       "    <tr>\n",
       "      <th>9997.0</th>\n",
       "      <td>38777.014892</td>\n",
       "      <td>34358.663587</td>\n",
       "      <td>25</td>\n",
       "      <td>0.106838</td>\n",
       "    </tr>\n",
       "    <tr>\n",
       "      <th>9998.0</th>\n",
       "      <td>14.391581</td>\n",
       "      <td>6.956347</td>\n",
       "      <td>182</td>\n",
       "      <td>0.777778</td>\n",
       "    </tr>\n",
       "  </tbody>\n",
       "</table>\n",
       "<p>898 rows × 4 columns</p>\n",
       "</div>"
      ],
      "text/plain": [
       "                       Mean  Standard Deviation  Missing Value Count  \\\n",
       "       sic                                                             \n",
       "saleq  100.0     210.761569          153.793232                   13   \n",
       "       200.0      45.730984           57.098003                   80   \n",
       "       700.0      69.080662           89.566404                   21   \n",
       "       800.0      19.299191           20.465293                   53   \n",
       "       900.0      11.289268            5.561760                  141   \n",
       "       1000.0    138.864482          124.434684                    4   \n",
       "       1040.0     29.934386           16.634485                   19   \n",
       "       1044.0      6.240967            4.638450                   22   \n",
       "       1090.0     15.516840            9.831098                   34   \n",
       "       1220.0    150.659496          114.447711                    5   \n",
       "       1221.0    176.266895          206.627857                    5   \n",
       "       1311.0    164.144059           95.387297                    2   \n",
       "       1381.0    185.692195          188.833311                    4   \n",
       "       1382.0     98.708876           47.750417                    3   \n",
       "       1389.0    332.091749          251.646316                    4   \n",
       "       1400.0    113.294800           93.685515                    4   \n",
       "       1520.0     88.744489           84.928169                   38   \n",
       "       1531.0    312.088871          394.915490                   21   \n",
       "       1540.0    210.649587          111.315080                   27   \n",
       "       1600.0    352.577404          246.082707                    4   \n",
       "       1623.0    158.203084          193.513572                   32   \n",
       "       1700.0     66.267351           79.050512                   27   \n",
       "       1731.0    306.685628          410.150783                   20   \n",
       "       2000.0   2194.469890         2062.985773                    1   \n",
       "       2011.0   1292.063902         1216.362118                   13   \n",
       "       2013.0    495.397362          340.115005                    3   \n",
       "       2015.0    353.748445          366.151457                   23   \n",
       "       2020.0    335.611330          425.106274                   22   \n",
       "       2024.0     29.144757           36.840266                   81   \n",
       "       2030.0    390.490497          286.623747                    1   \n",
       "...                     ...                 ...                  ...   \n",
       "mktcap 7996.0    869.737707          765.961752                   80   \n",
       "       7997.0    573.572300          741.869577                  109   \n",
       "       8000.0    125.265232          108.100317                   92   \n",
       "       8011.0    436.043578          669.110980                   35   \n",
       "       8050.0    578.226438          798.911842                   79   \n",
       "       8051.0    344.922508          295.776049                   31   \n",
       "       8060.0    395.980106          400.810620                   32   \n",
       "       8062.0   2569.917673         3358.376748                   24   \n",
       "       8071.0    599.737201         1205.207650                   28   \n",
       "       8082.0    375.515204          714.967333                   47   \n",
       "       8090.0    678.846472          755.827212                   45   \n",
       "       8093.0    151.098135          123.418849                   82   \n",
       "       8111.0   1605.330193         2361.507076                  135   \n",
       "       8200.0    565.604428          544.157381                   24   \n",
       "       8300.0    237.552174          234.310529                   81   \n",
       "       8351.0   1187.989849         2035.978960                   98   \n",
       "       8400.0      7.548196            4.995229                  219   \n",
       "       8600.0    162.072623          207.234106                  216   \n",
       "       8700.0   1083.074679         1831.463217                   17   \n",
       "       8711.0    464.470540          546.626789                   27   \n",
       "       8721.0   1810.799479         1587.784173                   37   \n",
       "       8731.0    850.256128         1599.771797                   71   \n",
       "       8734.0    143.100716          152.869490                   37   \n",
       "       8741.0    318.845679          341.765849                   38   \n",
       "       8742.0   1312.862773         4763.182311                   16   \n",
       "       8744.0    133.026236          183.216280                   39   \n",
       "       8900.0     35.620137           31.784375                  205   \n",
       "       9995.0    185.027985          334.869757                   22   \n",
       "       9997.0  38777.014892        34358.663587                   25   \n",
       "       9998.0     14.391581            6.956347                  182   \n",
       "\n",
       "               Missing Value Ratio  \n",
       "       sic                          \n",
       "saleq  100.0              0.054622  \n",
       "       200.0              0.336134  \n",
       "       700.0              0.088235  \n",
       "       800.0              0.222689  \n",
       "       900.0              0.592437  \n",
       "       1000.0             0.016807  \n",
       "       1040.0             0.079832  \n",
       "       1044.0             0.092437  \n",
       "       1090.0             0.142857  \n",
       "       1220.0             0.021008  \n",
       "       1221.0             0.021008  \n",
       "       1311.0             0.008403  \n",
       "       1381.0             0.016807  \n",
       "       1382.0             0.012605  \n",
       "       1389.0             0.016807  \n",
       "       1400.0             0.016807  \n",
       "       1520.0             0.159664  \n",
       "       1531.0             0.088235  \n",
       "       1540.0             0.113445  \n",
       "       1600.0             0.016807  \n",
       "       1623.0             0.134454  \n",
       "       1700.0             0.113445  \n",
       "       1731.0             0.084034  \n",
       "       2000.0             0.004202  \n",
       "       2011.0             0.054622  \n",
       "       2013.0             0.012605  \n",
       "       2015.0             0.096639  \n",
       "       2020.0             0.092437  \n",
       "       2024.0             0.340336  \n",
       "       2030.0             0.004202  \n",
       "...                            ...  \n",
       "mktcap 7996.0             0.341880  \n",
       "       7997.0             0.465812  \n",
       "       8000.0             0.393162  \n",
       "       8011.0             0.149573  \n",
       "       8050.0             0.337607  \n",
       "       8051.0             0.132479  \n",
       "       8060.0             0.136752  \n",
       "       8062.0             0.102564  \n",
       "       8071.0             0.119658  \n",
       "       8082.0             0.200855  \n",
       "       8090.0             0.192308  \n",
       "       8093.0             0.350427  \n",
       "       8111.0             0.576923  \n",
       "       8200.0             0.102564  \n",
       "       8300.0             0.346154  \n",
       "       8351.0             0.418803  \n",
       "       8400.0             0.935897  \n",
       "       8600.0             0.923077  \n",
       "       8700.0             0.072650  \n",
       "       8711.0             0.115385  \n",
       "       8721.0             0.158120  \n",
       "       8731.0             0.303419  \n",
       "       8734.0             0.158120  \n",
       "       8741.0             0.162393  \n",
       "       8742.0             0.068376  \n",
       "       8744.0             0.166667  \n",
       "       8900.0             0.876068  \n",
       "       9995.0             0.094017  \n",
       "       9997.0             0.106838  \n",
       "       9998.0             0.777778  \n",
       "\n",
       "[898 rows x 4 columns]"
      ]
     },
     "execution_count": 9,
     "metadata": {},
     "output_type": "execute_result"
    }
   ],
   "source": [
    "final_result = pd.concat([sales_summary, mktcap_summary]) #Aggregate them into 1 dataframe\n",
    "final_result"
   ]
  },
  {
   "cell_type": "code",
   "execution_count": 10,
   "metadata": {},
   "outputs": [
    {
     "data": {
      "text/html": [
       "<div>\n",
       "<style scoped>\n",
       "    .dataframe tbody tr th:only-of-type {\n",
       "        vertical-align: middle;\n",
       "    }\n",
       "\n",
       "    .dataframe tbody tr th {\n",
       "        vertical-align: top;\n",
       "    }\n",
       "\n",
       "    .dataframe thead th {\n",
       "        text-align: right;\n",
       "    }\n",
       "</style>\n",
       "<table border=\"1\" class=\"dataframe\">\n",
       "  <thead>\n",
       "    <tr style=\"text-align: right;\">\n",
       "      <th></th>\n",
       "      <th>sic</th>\n",
       "      <th>cshoq</th>\n",
       "      <th>saleq</th>\n",
       "      <th>prccq</th>\n",
       "      <th>mktcap</th>\n",
       "    </tr>\n",
       "  </thead>\n",
       "  <tbody>\n",
       "    <tr>\n",
       "      <th>count</th>\n",
       "      <td>1.810931e+06</td>\n",
       "      <td>1.569058e+06</td>\n",
       "      <td>1.541801e+06</td>\n",
       "      <td>1.468061e+06</td>\n",
       "      <td>1.343023e+06</td>\n",
       "    </tr>\n",
       "    <tr>\n",
       "      <th>mean</th>\n",
       "      <td>4.837408e+03</td>\n",
       "      <td>1.463094e+02</td>\n",
       "      <td>4.451507e+02</td>\n",
       "      <td>2.304301e+01</td>\n",
       "      <td>2.057473e+03</td>\n",
       "    </tr>\n",
       "    <tr>\n",
       "      <th>std</th>\n",
       "      <td>2.092611e+03</td>\n",
       "      <td>4.153391e+04</td>\n",
       "      <td>2.679707e+03</td>\n",
       "      <td>5.266772e+02</td>\n",
       "      <td>1.320220e+04</td>\n",
       "    </tr>\n",
       "    <tr>\n",
       "      <th>min</th>\n",
       "      <td>1.000000e+02</td>\n",
       "      <td>0.000000e+00</td>\n",
       "      <td>-2.562300e+04</td>\n",
       "      <td>0.000000e+00</td>\n",
       "      <td>0.000000e+00</td>\n",
       "    </tr>\n",
       "    <tr>\n",
       "      <th>25%</th>\n",
       "      <td>3.312000e+03</td>\n",
       "      <td>4.152000e+00</td>\n",
       "      <td>3.210000e+00</td>\n",
       "      <td>3.000000e+00</td>\n",
       "      <td>2.000701e+01</td>\n",
       "    </tr>\n",
       "    <tr>\n",
       "      <th>50%</th>\n",
       "      <td>4.923000e+03</td>\n",
       "      <td>1.298600e+01</td>\n",
       "      <td>2.182500e+01</td>\n",
       "      <td>1.082000e+01</td>\n",
       "      <td>9.421800e+01</td>\n",
       "    </tr>\n",
       "    <tr>\n",
       "      <th>75%</th>\n",
       "      <td>6.722000e+03</td>\n",
       "      <td>4.236800e+01</td>\n",
       "      <td>1.305300e+02</td>\n",
       "      <td>2.381000e+01</td>\n",
       "      <td>5.257138e+02</td>\n",
       "    </tr>\n",
       "    <tr>\n",
       "      <th>max</th>\n",
       "      <td>9.998000e+03</td>\n",
       "      <td>2.597497e+07</td>\n",
       "      <td>2.073073e+05</td>\n",
       "      <td>1.416000e+05</td>\n",
       "      <td>1.540774e+06</td>\n",
       "    </tr>\n",
       "  </tbody>\n",
       "</table>\n",
       "</div>"
      ],
      "text/plain": [
       "                sic         cshoq         saleq         prccq        mktcap\n",
       "count  1.810931e+06  1.569058e+06  1.541801e+06  1.468061e+06  1.343023e+06\n",
       "mean   4.837408e+03  1.463094e+02  4.451507e+02  2.304301e+01  2.057473e+03\n",
       "std    2.092611e+03  4.153391e+04  2.679707e+03  5.266772e+02  1.320220e+04\n",
       "min    1.000000e+02  0.000000e+00 -2.562300e+04  0.000000e+00  0.000000e+00\n",
       "25%    3.312000e+03  4.152000e+00  3.210000e+00  3.000000e+00  2.000701e+01\n",
       "50%    4.923000e+03  1.298600e+01  2.182500e+01  1.082000e+01  9.421800e+01\n",
       "75%    6.722000e+03  4.236800e+01  1.305300e+02  2.381000e+01  5.257138e+02\n",
       "max    9.998000e+03  2.597497e+07  2.073073e+05  1.416000e+05  1.540774e+06"
      ]
     },
     "execution_count": 10,
     "metadata": {},
     "output_type": "execute_result"
    }
   ],
   "source": [
    "data.describe()"
   ]
  },
  {
   "cell_type": "code",
   "execution_count": null,
   "metadata": {},
   "outputs": [],
   "source": []
  },
  {
   "cell_type": "markdown",
   "metadata": {},
   "source": [
    "## Q3: Solution\n",
    "\n",
    "* (a): To check the outliers, I would compare the maximum and the minimum value with the mean to see whether the deviation is equal. I will also utilize the boxplot rule (1.5 * IQR)\n",
    "    * For instance, cshoq has a mean level of 10^2 but its maximum is 10^7, which strongly suggests that outlier exists\n",
    "    \n",
    "* (b): We use the IQR and Mean Absolute Deviation method. There are other machine learning methods like isolation forest or DBScan cluster which are not implemented here\n",
    "    * IQR method: It is considered as an outlier in the boxplot if it is smaller than Q1 - 1.5 * IQR or larger than Q3 + 1.5 * IQR where IQR = Q3 - Q1\n",
    "    * MAD method: An outlier has value larger than median + 3 * MAD or smaller than median - 3 * MAD"
   ]
  },
  {
   "cell_type": "code",
   "execution_count": 11,
   "metadata": {
    "scrolled": true
   },
   "outputs": [
    {
     "data": {
      "text/plain": [
       "       sic   \n",
       "saleq  100.0      163.571081\n",
       "       200.0       63.307688\n",
       "       700.0       97.830833\n",
       "       800.0       14.759750\n",
       "       900.0        4.352000\n",
       "       1000.0     156.438528\n",
       "       1040.0      24.572712\n",
       "       1044.0       7.068646\n",
       "       1090.0      13.541874\n",
       "       1220.0     151.963288\n",
       "       1221.0     302.577333\n",
       "       1311.0     144.721206\n",
       "       1381.0     212.158773\n",
       "       1382.0      61.668707\n",
       "       1389.0     312.501527\n",
       "       1400.0      97.791449\n",
       "       1520.0     122.793125\n",
       "       1531.0     402.188071\n",
       "       1540.0     154.166143\n",
       "       1600.0     382.972772\n",
       "       1623.0     296.409123\n",
       "       1700.0      61.124708\n",
       "       1731.0     304.483536\n",
       "       2000.0    3033.500136\n",
       "       2011.0    1773.003250\n",
       "       2013.0     494.000448\n",
       "       2015.0     428.914040\n",
       "       2020.0     372.439967\n",
       "       2024.0      36.627167\n",
       "       2030.0     253.685603\n",
       "                    ...     \n",
       "       7996.0     200.457500\n",
       "       7997.0     112.959250\n",
       "       8000.0      32.014667\n",
       "       8011.0      51.930469\n",
       "       8050.0     189.764150\n",
       "       8051.0     316.401626\n",
       "       8060.0     111.006837\n",
       "       8062.0    1070.179710\n",
       "       8071.0     121.479800\n",
       "       8082.0     109.955517\n",
       "       8090.0     165.112065\n",
       "       8093.0      67.676080\n",
       "       8111.0     768.819333\n",
       "       8200.0      90.049526\n",
       "       8300.0     109.023781\n",
       "       8351.0     168.787000\n",
       "       8400.0       1.723000\n",
       "       8600.0       7.805000\n",
       "       8700.0     179.519884\n",
       "       8711.0     190.732110\n",
       "       8721.0     220.054250\n",
       "       8731.0      98.279534\n",
       "       8734.0      40.272000\n",
       "       8741.0     124.704646\n",
       "       8742.0     232.680260\n",
       "       8744.0      40.958813\n",
       "       8900.0       2.395000\n",
       "       9995.0      36.125411\n",
       "       9997.0    8720.497692\n",
       "       9998.0       0.000000\n",
       "Length: 449, dtype: float64"
      ]
     },
     "execution_count": 11,
     "metadata": {},
     "output_type": "execute_result"
    }
   ],
   "source": [
    "sales_Q = sales.describe().loc[[\"25%\", \"75%\"]]\n",
    "IQR = sales_Q.loc[\"75%\"] - sales_Q.loc[\"25%\"]\n",
    "IQR"
   ]
  },
  {
   "cell_type": "code",
   "execution_count": 12,
   "metadata": {
    "scrolled": true
   },
   "outputs": [
    {
     "data": {
      "text/plain": [
       "       sic   \n",
       "saleq  100.0      8\n",
       "       200.0      4\n",
       "       700.0     15\n",
       "       800.0     11\n",
       "       900.0      6\n",
       "       1000.0     9\n",
       "       1040.0     1\n",
       "       1044.0     4\n",
       "       1090.0     0\n",
       "       1220.0    10\n",
       "       1221.0     0\n",
       "       1311.0     2\n",
       "       1381.0    15\n",
       "       1382.0     8\n",
       "       1389.0     1\n",
       "       1400.0    18\n",
       "       1520.0     3\n",
       "       1531.0    18\n",
       "       1540.0     3\n",
       "       1600.0     0\n",
       "       1623.0     0\n",
       "       1700.0    22\n",
       "       1731.0    22\n",
       "       2000.0     2\n",
       "       2011.0     2\n",
       "       2013.0     0\n",
       "       2015.0    11\n",
       "       2020.0    17\n",
       "       2024.0    10\n",
       "       2030.0    21\n",
       "                 ..\n",
       "       7996.0     2\n",
       "       7997.0     0\n",
       "       8000.0     2\n",
       "       8011.0    31\n",
       "       8050.0    19\n",
       "       8051.0     0\n",
       "       8060.0    19\n",
       "       8062.0    23\n",
       "       8071.0     8\n",
       "       8082.0     8\n",
       "       8090.0     6\n",
       "       8093.0     0\n",
       "       8111.0     0\n",
       "       8200.0     0\n",
       "       8300.0     4\n",
       "       8351.0    11\n",
       "       8400.0     1\n",
       "       8600.0     0\n",
       "       8700.0    19\n",
       "       8711.0    35\n",
       "       8721.0     8\n",
       "       8731.0    20\n",
       "       8734.0    17\n",
       "       8741.0    10\n",
       "       8742.0    11\n",
       "       8744.0    32\n",
       "       8900.0     6\n",
       "       9995.0     1\n",
       "       9997.0     0\n",
       "       9998.0    51\n",
       "Length: 449, dtype: int64"
      ]
     },
     "execution_count": 12,
     "metadata": {},
     "output_type": "execute_result"
    }
   ],
   "source": [
    "sale_outlier_IQR = sales[~((sales_Q.loc[\"25%\"] - 1.5 * IQR < sales) & (sales < sales_Q.loc[\"75%\"] + 1.5 * IQR))]\n",
    "sale_outlier_IQR.count() #The counting of outliners in each company"
   ]
  },
  {
   "cell_type": "code",
   "execution_count": 13,
   "metadata": {},
   "outputs": [
    {
     "data": {
      "text/html": [
       "<div>\n",
       "<style scoped>\n",
       "    .dataframe tbody tr th:only-of-type {\n",
       "        vertical-align: middle;\n",
       "    }\n",
       "\n",
       "    .dataframe tbody tr th {\n",
       "        vertical-align: top;\n",
       "    }\n",
       "\n",
       "    .dataframe thead tr th {\n",
       "        text-align: left;\n",
       "    }\n",
       "</style>\n",
       "<table border=\"1\" class=\"dataframe\">\n",
       "  <thead>\n",
       "    <tr>\n",
       "      <th></th>\n",
       "      <th colspan=\"21\" halign=\"left\">saleq</th>\n",
       "    </tr>\n",
       "    <tr>\n",
       "      <th>sic</th>\n",
       "      <th>100.0</th>\n",
       "      <th>200.0</th>\n",
       "      <th>700.0</th>\n",
       "      <th>800.0</th>\n",
       "      <th>900.0</th>\n",
       "      <th>1000.0</th>\n",
       "      <th>1040.0</th>\n",
       "      <th>1044.0</th>\n",
       "      <th>1090.0</th>\n",
       "      <th>1220.0</th>\n",
       "      <th>...</th>\n",
       "      <th>8721.0</th>\n",
       "      <th>8731.0</th>\n",
       "      <th>8734.0</th>\n",
       "      <th>8741.0</th>\n",
       "      <th>8742.0</th>\n",
       "      <th>8744.0</th>\n",
       "      <th>8900.0</th>\n",
       "      <th>9995.0</th>\n",
       "      <th>9997.0</th>\n",
       "      <th>9998.0</th>\n",
       "    </tr>\n",
       "  </thead>\n",
       "  <tbody>\n",
       "    <tr>\n",
       "      <th>count</th>\n",
       "      <td>225.000000</td>\n",
       "      <td>158.000000</td>\n",
       "      <td>217.000000</td>\n",
       "      <td>185.000000</td>\n",
       "      <td>97.000000</td>\n",
       "      <td>234.000000</td>\n",
       "      <td>219.000000</td>\n",
       "      <td>216.000000</td>\n",
       "      <td>204.000000</td>\n",
       "      <td>233.000000</td>\n",
       "      <td>...</td>\n",
       "      <td>214.000000</td>\n",
       "      <td>164.000000</td>\n",
       "      <td>217.000000</td>\n",
       "      <td>198.000000</td>\n",
       "      <td>218.000000</td>\n",
       "      <td>216.000000</td>\n",
       "      <td>42.000000</td>\n",
       "      <td>234.000000</td>\n",
       "      <td>234.000000</td>\n",
       "      <td>51.000000</td>\n",
       "    </tr>\n",
       "    <tr>\n",
       "      <th>mean</th>\n",
       "      <td>210.761569</td>\n",
       "      <td>45.730984</td>\n",
       "      <td>69.080662</td>\n",
       "      <td>19.299191</td>\n",
       "      <td>11.289268</td>\n",
       "      <td>138.864482</td>\n",
       "      <td>29.934386</td>\n",
       "      <td>6.240967</td>\n",
       "      <td>15.516840</td>\n",
       "      <td>150.659496</td>\n",
       "      <td>...</td>\n",
       "      <td>278.140754</td>\n",
       "      <td>100.856041</td>\n",
       "      <td>31.772518</td>\n",
       "      <td>104.915638</td>\n",
       "      <td>174.285085</td>\n",
       "      <td>81.643552</td>\n",
       "      <td>1.911976</td>\n",
       "      <td>31.266904</td>\n",
       "      <td>6280.032904</td>\n",
       "      <td>0.435275</td>\n",
       "    </tr>\n",
       "    <tr>\n",
       "      <th>std</th>\n",
       "      <td>153.793232</td>\n",
       "      <td>57.098003</td>\n",
       "      <td>89.566404</td>\n",
       "      <td>20.465293</td>\n",
       "      <td>5.561760</td>\n",
       "      <td>124.434684</td>\n",
       "      <td>16.634485</td>\n",
       "      <td>4.638450</td>\n",
       "      <td>9.831098</td>\n",
       "      <td>114.447711</td>\n",
       "      <td>...</td>\n",
       "      <td>205.773564</td>\n",
       "      <td>167.704723</td>\n",
       "      <td>38.387461</td>\n",
       "      <td>100.996158</td>\n",
       "      <td>421.850898</td>\n",
       "      <td>155.763764</td>\n",
       "      <td>3.136163</td>\n",
       "      <td>21.972147</td>\n",
       "      <td>5728.214729</td>\n",
       "      <td>1.205664</td>\n",
       "    </tr>\n",
       "    <tr>\n",
       "      <th>min</th>\n",
       "      <td>57.326556</td>\n",
       "      <td>0.022500</td>\n",
       "      <td>1.014000</td>\n",
       "      <td>0.405500</td>\n",
       "      <td>2.062000</td>\n",
       "      <td>19.341000</td>\n",
       "      <td>4.154667</td>\n",
       "      <td>0.000000</td>\n",
       "      <td>0.000000</td>\n",
       "      <td>18.100000</td>\n",
       "      <td>...</td>\n",
       "      <td>13.500000</td>\n",
       "      <td>1.862111</td>\n",
       "      <td>1.235000</td>\n",
       "      <td>3.287000</td>\n",
       "      <td>1.107000</td>\n",
       "      <td>6.513000</td>\n",
       "      <td>0.000000</td>\n",
       "      <td>0.000000</td>\n",
       "      <td>652.700000</td>\n",
       "      <td>0.000000</td>\n",
       "    </tr>\n",
       "    <tr>\n",
       "      <th>25%</th>\n",
       "      <td>108.528182</td>\n",
       "      <td>6.520937</td>\n",
       "      <td>3.796000</td>\n",
       "      <td>7.302250</td>\n",
       "      <td>8.095000</td>\n",
       "      <td>50.771344</td>\n",
       "      <td>15.416500</td>\n",
       "      <td>2.090438</td>\n",
       "      <td>9.210443</td>\n",
       "      <td>60.874167</td>\n",
       "      <td>...</td>\n",
       "      <td>129.524250</td>\n",
       "      <td>4.349375</td>\n",
       "      <td>5.890000</td>\n",
       "      <td>25.610500</td>\n",
       "      <td>12.140148</td>\n",
       "      <td>17.476312</td>\n",
       "      <td>0.082750</td>\n",
       "      <td>12.411153</td>\n",
       "      <td>1582.968083</td>\n",
       "      <td>0.000000</td>\n",
       "    </tr>\n",
       "    <tr>\n",
       "      <th>50%</th>\n",
       "      <td>153.344833</td>\n",
       "      <td>18.701125</td>\n",
       "      <td>20.356500</td>\n",
       "      <td>13.987500</td>\n",
       "      <td>10.504000</td>\n",
       "      <td>77.116667</td>\n",
       "      <td>29.183667</td>\n",
       "      <td>6.097571</td>\n",
       "      <td>16.761961</td>\n",
       "      <td>103.861500</td>\n",
       "      <td>...</td>\n",
       "      <td>247.110800</td>\n",
       "      <td>27.191923</td>\n",
       "      <td>17.440800</td>\n",
       "      <td>70.665100</td>\n",
       "      <td>20.265346</td>\n",
       "      <td>37.547833</td>\n",
       "      <td>0.330000</td>\n",
       "      <td>27.861530</td>\n",
       "      <td>3220.928013</td>\n",
       "      <td>0.000000</td>\n",
       "    </tr>\n",
       "    <tr>\n",
       "      <th>75%</th>\n",
       "      <td>272.099263</td>\n",
       "      <td>69.828625</td>\n",
       "      <td>101.626833</td>\n",
       "      <td>22.062000</td>\n",
       "      <td>12.447000</td>\n",
       "      <td>207.209872</td>\n",
       "      <td>39.989212</td>\n",
       "      <td>9.159083</td>\n",
       "      <td>22.752317</td>\n",
       "      <td>212.837455</td>\n",
       "      <td>...</td>\n",
       "      <td>349.578500</td>\n",
       "      <td>102.628909</td>\n",
       "      <td>46.162000</td>\n",
       "      <td>150.315146</td>\n",
       "      <td>244.820408</td>\n",
       "      <td>58.435125</td>\n",
       "      <td>2.477750</td>\n",
       "      <td>48.536565</td>\n",
       "      <td>10303.465775</td>\n",
       "      <td>0.000000</td>\n",
       "    </tr>\n",
       "    <tr>\n",
       "      <th>max</th>\n",
       "      <td>1047.078077</td>\n",
       "      <td>453.333000</td>\n",
       "      <td>346.393167</td>\n",
       "      <td>108.769000</td>\n",
       "      <td>32.441000</td>\n",
       "      <td>607.912637</td>\n",
       "      <td>88.055560</td>\n",
       "      <td>21.491364</td>\n",
       "      <td>39.527556</td>\n",
       "      <td>538.562810</td>\n",
       "      <td>...</td>\n",
       "      <td>1130.900000</td>\n",
       "      <td>1047.131667</td>\n",
       "      <td>172.205500</td>\n",
       "      <td>402.122375</td>\n",
       "      <td>5522.271000</td>\n",
       "      <td>1828.000000</td>\n",
       "      <td>10.644000</td>\n",
       "      <td>112.515552</td>\n",
       "      <td>19505.391000</td>\n",
       "      <td>4.964000</td>\n",
       "    </tr>\n",
       "  </tbody>\n",
       "</table>\n",
       "<p>8 rows × 449 columns</p>\n",
       "</div>"
      ],
      "text/plain": [
       "             saleq                                                             \\\n",
       "sic         100.0       200.0       700.0       800.0      900.0       1000.0   \n",
       "count   225.000000  158.000000  217.000000  185.000000  97.000000  234.000000   \n",
       "mean    210.761569   45.730984   69.080662   19.299191  11.289268  138.864482   \n",
       "std     153.793232   57.098003   89.566404   20.465293   5.561760  124.434684   \n",
       "min      57.326556    0.022500    1.014000    0.405500   2.062000   19.341000   \n",
       "25%     108.528182    6.520937    3.796000    7.302250   8.095000   50.771344   \n",
       "50%     153.344833   18.701125   20.356500   13.987500  10.504000   77.116667   \n",
       "75%     272.099263   69.828625  101.626833   22.062000  12.447000  207.209872   \n",
       "max    1047.078077  453.333000  346.393167  108.769000  32.441000  607.912637   \n",
       "\n",
       "                                                         ...                   \\\n",
       "sic        1040.0      1044.0      1090.0      1220.0    ...           8721.0   \n",
       "count  219.000000  216.000000  204.000000  233.000000    ...       214.000000   \n",
       "mean    29.934386    6.240967   15.516840  150.659496    ...       278.140754   \n",
       "std     16.634485    4.638450    9.831098  114.447711    ...       205.773564   \n",
       "min      4.154667    0.000000    0.000000   18.100000    ...        13.500000   \n",
       "25%     15.416500    2.090438    9.210443   60.874167    ...       129.524250   \n",
       "50%     29.183667    6.097571   16.761961  103.861500    ...       247.110800   \n",
       "75%     39.989212    9.159083   22.752317  212.837455    ...       349.578500   \n",
       "max     88.055560   21.491364   39.527556  538.562810    ...      1130.900000   \n",
       "\n",
       "                                                                      \\\n",
       "sic         8731.0      8734.0      8741.0       8742.0       8744.0   \n",
       "count   164.000000  217.000000  198.000000   218.000000   216.000000   \n",
       "mean    100.856041   31.772518  104.915638   174.285085    81.643552   \n",
       "std     167.704723   38.387461  100.996158   421.850898   155.763764   \n",
       "min       1.862111    1.235000    3.287000     1.107000     6.513000   \n",
       "25%       4.349375    5.890000   25.610500    12.140148    17.476312   \n",
       "50%      27.191923   17.440800   70.665100    20.265346    37.547833   \n",
       "75%     102.628909   46.162000  150.315146   244.820408    58.435125   \n",
       "max    1047.131667  172.205500  402.122375  5522.271000  1828.000000   \n",
       "\n",
       "                                                       \n",
       "sic       8900.0      9995.0        9997.0     9998.0  \n",
       "count  42.000000  234.000000    234.000000  51.000000  \n",
       "mean    1.911976   31.266904   6280.032904   0.435275  \n",
       "std     3.136163   21.972147   5728.214729   1.205664  \n",
       "min     0.000000    0.000000    652.700000   0.000000  \n",
       "25%     0.082750   12.411153   1582.968083   0.000000  \n",
       "50%     0.330000   27.861530   3220.928013   0.000000  \n",
       "75%     2.477750   48.536565  10303.465775   0.000000  \n",
       "max    10.644000  112.515552  19505.391000   4.964000  \n",
       "\n",
       "[8 rows x 449 columns]"
      ]
     },
     "execution_count": 13,
     "metadata": {},
     "output_type": "execute_result"
    }
   ],
   "source": [
    "sales.describe()"
   ]
  },
  {
   "cell_type": "code",
   "execution_count": 14,
   "metadata": {
    "scrolled": true
   },
   "outputs": [
    {
     "data": {
      "text/plain": [
       "       sic   \n",
       "saleq  100.0      8\n",
       "       200.0      7\n",
       "       700.0     21\n",
       "       800.0     10\n",
       "       900.0      6\n",
       "       1000.0    13\n",
       "       1040.0     4\n",
       "       1044.0     4\n",
       "       1090.0     0\n",
       "       1220.0    16\n",
       "       1221.0    17\n",
       "       1311.0     6\n",
       "       1381.0    17\n",
       "       1382.0    10\n",
       "       1389.0     6\n",
       "       1400.0    18\n",
       "       1520.0     8\n",
       "       1531.0    19\n",
       "       1540.0     9\n",
       "       1600.0     1\n",
       "       1623.0     7\n",
       "       1700.0    19\n",
       "       1731.0    18\n",
       "       2000.0     6\n",
       "       2011.0    10\n",
       "       2013.0     7\n",
       "       2015.0    15\n",
       "       2020.0    13\n",
       "       2024.0    12\n",
       "       2030.0    19\n",
       "                 ..\n",
       "       7996.0    11\n",
       "       7997.0     1\n",
       "       8000.0     2\n",
       "       8011.0    13\n",
       "       8050.0    12\n",
       "       8051.0    11\n",
       "       8060.0    19\n",
       "       8062.0    22\n",
       "       8071.0    12\n",
       "       8082.0    12\n",
       "       8090.0    15\n",
       "       8093.0     0\n",
       "       8111.0     1\n",
       "       8200.0     0\n",
       "       8300.0     4\n",
       "       8351.0     9\n",
       "       8400.0     0\n",
       "       8600.0     1\n",
       "       8700.0    21\n",
       "       8711.0    17\n",
       "       8721.0     8\n",
       "       8731.0    15\n",
       "       8734.0    18\n",
       "       8741.0    11\n",
       "       8742.0    10\n",
       "       8744.0    27\n",
       "       8900.0     5\n",
       "       9995.0     1\n",
       "       9997.0     4\n",
       "       9998.0     4\n",
       "Length: 449, dtype: int64"
      ]
     },
     "execution_count": 14,
     "metadata": {},
     "output_type": "execute_result"
    }
   ],
   "source": [
    "MAD = np.abs(sales - sales.mean()).mean()\n",
    "sale_outlier_MAD = sales[np.abs(sales - sales.median()) > 3 * MAD] # 3 is a commonly used benchmark\n",
    "sale_outlier_MAD.count() #The two method gives approximately the same amount of outliers"
   ]
  },
  {
   "cell_type": "code",
   "execution_count": 15,
   "metadata": {
    "scrolled": true
   },
   "outputs": [
    {
     "data": {
      "text/plain": [
       "        sic   \n",
       "mktcap  100.0     12\n",
       "        200.0     15\n",
       "        700.0      7\n",
       "        800.0      5\n",
       "        900.0      0\n",
       "        1000.0     8\n",
       "        1040.0     6\n",
       "        1044.0    10\n",
       "        1090.0     2\n",
       "        1220.0    17\n",
       "        1221.0    10\n",
       "        1311.0     0\n",
       "        1381.0     3\n",
       "        1382.0     7\n",
       "        1389.0     0\n",
       "        1400.0     7\n",
       "        1520.0    23\n",
       "        1531.0    12\n",
       "        1540.0    10\n",
       "        1600.0     6\n",
       "        1623.0     0\n",
       "        1700.0    21\n",
       "        1731.0    15\n",
       "        2000.0    34\n",
       "        2011.0    25\n",
       "        2013.0     0\n",
       "        2015.0    28\n",
       "        2020.0    28\n",
       "        2024.0    19\n",
       "        2030.0    19\n",
       "                  ..\n",
       "        7996.0     2\n",
       "        7997.0     7\n",
       "        8000.0     6\n",
       "        8011.0    22\n",
       "        8050.0    12\n",
       "        8051.0     0\n",
       "        8060.0    14\n",
       "        8062.0     7\n",
       "        8071.0     6\n",
       "        8082.0    20\n",
       "        8090.0     0\n",
       "        8093.0     0\n",
       "        8111.0     5\n",
       "        8200.0     7\n",
       "        8300.0     3\n",
       "        8351.0    26\n",
       "        8400.0     0\n",
       "        8600.0     1\n",
       "        8700.0    37\n",
       "        8711.0     1\n",
       "        8721.0     2\n",
       "        8731.0    26\n",
       "        8734.0     0\n",
       "        8741.0     8\n",
       "        8742.0    34\n",
       "        8744.0    22\n",
       "        8900.0     0\n",
       "        9995.0    14\n",
       "        9997.0     0\n",
       "        9998.0     1\n",
       "Length: 449, dtype: int64"
      ]
     },
     "execution_count": 15,
     "metadata": {},
     "output_type": "execute_result"
    }
   ],
   "source": [
    "mktcap_Q = mktcap.describe().loc[[\"25%\", \"75%\"]]\n",
    "IQR = mktcap_Q.loc[\"75%\"] - mktcap_Q.loc[\"25%\"]\n",
    "mktcap_outlier_IQR = mktcap[~((mktcap_Q.loc[\"25%\"] - 1.5 * IQR < mktcap) & (mktcap < mktcap_Q.loc[\"75%\"] + 1.5 * IQR))]\n",
    "mktcap_outlier_IQR.count() #The counting of outliers in each company"
   ]
  },
  {
   "cell_type": "code",
   "execution_count": 16,
   "metadata": {
    "scrolled": true
   },
   "outputs": [
    {
     "data": {
      "text/plain": [
       "        sic   \n",
       "mktcap  100.0     13\n",
       "        200.0     13\n",
       "        700.0     11\n",
       "        800.0      6\n",
       "        900.0      0\n",
       "        1000.0    11\n",
       "        1040.0    10\n",
       "        1044.0    12\n",
       "        1090.0     6\n",
       "        1220.0    16\n",
       "        1221.0    15\n",
       "        1311.0     9\n",
       "        1381.0    15\n",
       "        1382.0     9\n",
       "        1389.0     3\n",
       "        1400.0     8\n",
       "        1520.0    14\n",
       "        1531.0     8\n",
       "        1540.0    12\n",
       "        1600.0    10\n",
       "        1623.0    11\n",
       "        1700.0    18\n",
       "        1731.0    18\n",
       "        2000.0    23\n",
       "        2011.0    20\n",
       "        2013.0     8\n",
       "        2015.0    25\n",
       "        2020.0    22\n",
       "        2024.0    10\n",
       "        2030.0    18\n",
       "                  ..\n",
       "        7996.0     6\n",
       "        7997.0     8\n",
       "        8000.0     6\n",
       "        8011.0    16\n",
       "        8050.0    12\n",
       "        8051.0     5\n",
       "        8060.0    16\n",
       "        8062.0    12\n",
       "        8071.0    11\n",
       "        8082.0    11\n",
       "        8090.0     7\n",
       "        8093.0     1\n",
       "        8111.0     7\n",
       "        8200.0    11\n",
       "        8300.0     8\n",
       "        8351.0    11\n",
       "        8400.0     0\n",
       "        8600.0     1\n",
       "        8700.0    26\n",
       "        8711.0    15\n",
       "        8721.0     8\n",
       "        8731.0    13\n",
       "        8734.0     4\n",
       "        8741.0    12\n",
       "        8742.0    11\n",
       "        8744.0    14\n",
       "        8900.0     0\n",
       "        9995.0     9\n",
       "        9997.0     0\n",
       "        9998.0     1\n",
       "Length: 449, dtype: int64"
      ]
     },
     "execution_count": 16,
     "metadata": {},
     "output_type": "execute_result"
    }
   ],
   "source": [
    "MAD = np.abs(mktcap - mktcap.mean()).mean()\n",
    "mktcap_outlier_MAD = mktcap[np.abs(mktcap - mktcap.median()) > 3 * MAD]\n",
    "mktcap_outlier_MAD.count() #The two method gives approximately the same amount of outliers"
   ]
  },
  {
   "cell_type": "markdown",
   "metadata": {},
   "source": [
    "## Q3 (c): \n",
    "\n",
    "* Below are the some plots of the companies that contain larger amount of outliers\n",
    "    * In the first case, the company underwent a long growth period with a significant booming after the middle of the time period, so this is just a reflection a swift development\n",
    "    * In the second case, the sales amount of the company fluctuates significantly, making a lot of outliers\n",
    "* In conclusion, long-term significant growth and high fluctuations are basic causes for outliers (Assuming that there is no mis-input)"
   ]
  },
  {
   "cell_type": "code",
   "execution_count": 17,
   "metadata": {},
   "outputs": [
    {
     "data": {
      "text/plain": [
       "<matplotlib.axes._subplots.AxesSubplot at 0x1c2f22f49b0>"
      ]
     },
     "execution_count": 17,
     "metadata": {},
     "output_type": "execute_result"
    },
    {
     "data": {
      "image/png": "[encoded data removed]",
      "text/plain": [
       "<Figure size 432x288 with 1 Axes>"
      ]
     },
     "metadata": {
      "needs_background": "light"
     },
     "output_type": "display_data"
    }
   ],
   "source": [
    "sales['saleq'][2015].plot()"
   ]
  },
  {
   "cell_type": "code",
   "execution_count": 18,
   "metadata": {},
   "outputs": [
    {
     "name": "stderr",
     "output_type": "stream",
     "text": [
      "C:\\Users\\Toby Jing\\Anaconda3\\lib\\site-packages\\ipykernel_launcher.py:1: FutureWarning: 'argmax' is deprecated, use 'idxmax' instead. The behavior of 'argmax'\n",
      "will be corrected to return the positional maximum in the future.\n",
      "Use 'series.values.argmax' to get the position of the maximum now.\n",
      "  \"\"\"Entry point for launching an IPython kernel.\n"
     ]
    },
    {
     "data": {
      "text/plain": [
       "<matplotlib.axes._subplots.AxesSubplot at 0x1c2f233f0b8>"
      ]
     },
     "execution_count": 18,
     "metadata": {},
     "output_type": "execute_result"
    },
    {
     "data": {
      "image/png": "[encoded data removed]",
      "text/plain": [
       "<Figure size 432x288 with 1 Axes>"
      ]
     },
     "metadata": {
      "needs_background": "light"
     },
     "output_type": "display_data"
    }
   ],
   "source": [
    "sales['saleq'][mktcap_outlier_IQR.count().argmax()[1]].plot()"
   ]
  },
  {
   "cell_type": "markdown",
   "metadata": {},
   "source": [
    "## Q3 (d): The following observations can be made from the result\n",
    "\n",
    "* From the plot of mean, it is obvious that different companies have significantly differnet sales and market cap values\n",
    "* It seems that those companies with high mean also tend to have a higher standard deviation (rough result just from looking)\n",
    "* Nearly all companies have missing values in the market cap, which is better for sales data\n",
    "* There are several companies for which nearly all values are missing. Then the data from that period may not be very reliable"
   ]
  },
  {
   "cell_type": "code",
   "execution_count": 19,
   "metadata": {},
   "outputs": [
    {
     "data": {
      "text/plain": [
       "<matplotlib.axes._subplots.AxesSubplot at 0x1c2f224c860>"
      ]
     },
     "execution_count": 19,
     "metadata": {},
     "output_type": "execute_result"
    },
    {
     "data": {
      "image/png": "[encoded data removed]",
      "text/plain": [
       "<Figure size 432x288 with 1 Axes>"
      ]
     },
     "metadata": {
      "needs_background": "light"
     },
     "output_type": "display_data"
    }
   ],
   "source": [
    "sales.mean().plot()"
   ]
  },
  {
   "cell_type": "code",
   "execution_count": 20,
   "metadata": {},
   "outputs": [
    {
     "data": {
      "text/plain": [
       "<matplotlib.axes._subplots.AxesSubplot at 0x1c2850f6c18>"
      ]
     },
     "execution_count": 20,
     "metadata": {},
     "output_type": "execute_result"
    },
    {
     "data": {
      "image/png": "[encoded data removed]",
      "text/plain": [
       "<Figure size 432x288 with 1 Axes>"
      ]
     },
     "metadata": {
      "needs_background": "light"
     },
     "output_type": "display_data"
    }
   ],
   "source": [
    "mktcap.mean().plot()"
   ]
  },
  {
   "cell_type": "code",
   "execution_count": 31,
   "metadata": {},
   "outputs": [
    {
     "data": {
      "text/plain": [
       "<matplotlib.axes._subplots.AxesSubplot at 0x1c2877e1fd0>"
      ]
     },
     "execution_count": 31,
     "metadata": {},
     "output_type": "execute_result"
    },
    {
     "data": {
      "image/png": "[encoded data removed]",
      "text/plain": [
       "<Figure size 432x288 with 1 Axes>"
      ]
     },
     "metadata": {
      "needs_background": "light"
     },
     "output_type": "display_data"
    }
   ],
   "source": [
    "sales.std().plot()"
   ]
  },
  {
   "cell_type": "code",
   "execution_count": 32,
   "metadata": {},
   "outputs": [
    {
     "data": {
      "text/plain": [
       "<matplotlib.axes._subplots.AxesSubplot at 0x1c2f24d3320>"
      ]
     },
     "execution_count": 32,
     "metadata": {},
     "output_type": "execute_result"
    },
    {
     "data": {
      "image/png": "[encoded data removed]",
      "text/plain": [
       "<Figure size 432x288 with 1 Axes>"
      ]
     },
     "metadata": {
      "needs_background": "light"
     },
     "output_type": "display_data"
    }
   ],
   "source": [
    "mktcap.std().plot()"
   ]
  },
  {
   "cell_type": "code",
   "execution_count": 33,
   "metadata": {},
   "outputs": [
    {
     "data": {
      "text/plain": [
       "<matplotlib.axes._subplots.AxesSubplot at 0x1c2881ac588>"
      ]
     },
     "execution_count": 33,
     "metadata": {},
     "output_type": "execute_result"
    },
    {
     "data": {
      "image/png": "[encoded data removed]",
      "text/plain": [
       "<Figure size 432x288 with 1 Axes>"
      ]
     },
     "metadata": {
      "needs_background": "light"
     },
     "output_type": "display_data"
    }
   ],
   "source": [
    "sales.isnull().sum().plot()"
   ]
  },
  {
   "cell_type": "code",
   "execution_count": 34,
   "metadata": {},
   "outputs": [
    {
     "data": {
      "text/plain": [
       "<matplotlib.axes._subplots.AxesSubplot at 0x1c28863b160>"
      ]
     },
     "execution_count": 34,
     "metadata": {},
     "output_type": "execute_result"
    },
    {
     "data": {
      "image/png": "[encoded data removed]",
      "text/plain": [
       "<Figure size 432x288 with 1 Axes>"
      ]
     },
     "metadata": {
      "needs_background": "light"
     },
     "output_type": "display_data"
    }
   ],
   "source": [
    "mktcap.isnull().sum().plot()"
   ]
  },
  {
   "cell_type": "code",
   "execution_count": 35,
   "metadata": {},
   "outputs": [
    {
     "data": {
      "text/plain": [
       "<matplotlib.axes._subplots.AxesSubplot at 0x1c28faaff28>"
      ]
     },
     "execution_count": 35,
     "metadata": {},
     "output_type": "execute_result"
    },
    {
     "data": {
      "image/png": "[encoded data removed]",
      "text/plain": [
       "<Figure size 432x288 with 1 Axes>"
      ]
     },
     "metadata": {
      "needs_background": "light"
     },
     "output_type": "display_data"
    }
   ],
   "source": [
    "(sales.isnull().sum() / sales.shape[0]).plot()"
   ]
  },
  {
   "cell_type": "code",
   "execution_count": 36,
   "metadata": {},
   "outputs": [
    {
     "data": {
      "text/plain": [
       "<matplotlib.axes._subplots.AxesSubplot at 0x1c2881f26a0>"
      ]
     },
     "execution_count": 36,
     "metadata": {},
     "output_type": "execute_result"
    },
    {
     "data": {
      "image/png": "[encoded data removed]",
      "text/plain": [
       "<Figure size 432x288 with 1 Axes>"
      ]
     },
     "metadata": {
      "needs_background": "light"
     },
     "output_type": "display_data"
    }
   ],
   "source": [
    "(mktcap.isnull().sum() / mktcap.shape[0]).plot()"
   ]
  },
  {
   "cell_type": "markdown",
   "metadata": {},
   "source": [
    "# Question 2 Compute Industry Concentration"
   ]
  },
  {
   "cell_type": "markdown",
   "metadata": {},
   "source": [
    "The defination of HHI index could be found: \n",
    "\n",
    "https://www.investopedia.com/terms/h/hhi.asp#:~:text=The%20Herfindahl%2DHirschman%20Index%20(HHI)%20is%20a%20commonly%20accepted,close%20to%20zero%20to%2010%2C000.\n",
    "\n",
    "This index is used to measure the industry concentration and was used by congressman to determine whether to approve a merge deal or not.\n",
    "\n",
    "Using the same data in question 1. Compute a panel data for HHI index for all industry, using a 2 digit SIC code.\n",
    "\n",
    "Choose top 4 industry with the highest average HHI index, plot their time series pattern of HHI in a 2 by 2 figure."
   ]
  },
  {
   "cell_type": "code",
   "execution_count": 21,
   "metadata": {},
   "outputs": [
    {
     "data": {
      "text/plain": [
       "Index(['sic', 'datacqtr', 'cusip', 'cshoq', 'saleq', 'prccq', 'mktcap'], dtype='object')"
      ]
     },
     "execution_count": 21,
     "metadata": {},
     "output_type": "execute_result"
    }
   ],
   "source": [
    "data.columns"
   ]
  },
  {
   "cell_type": "code",
   "execution_count": 22,
   "metadata": {},
   "outputs": [],
   "source": [
    "data['sic2d'] = data['sic'] // 100 #Get the first 2 digits"
   ]
  },
  {
   "cell_type": "code",
   "execution_count": 23,
   "metadata": {},
   "outputs": [],
   "source": [
    "panel = data.pivot_table(values=['saleq'], index=['datacqtr'], columns=['sic2d'], aggfunc=[np.sum])\n",
    "HHI_denom = panel ** 2 #Calculate the denominator (sum(HHI) ** 2)"
   ]
  },
  {
   "cell_type": "code",
   "execution_count": 24,
   "metadata": {},
   "outputs": [],
   "source": [
    "newdata = data.copy(deep=True)\n",
    "newdata['saleq'] *= 100\n",
    "newdata['saleq'] = newdata['saleq'] ** 2\n",
    "HHI_numer = newdata.pivot_table(values=['saleq'], index=['datacqtr'], columns=['sic2d'], aggfunc=[np.sum]) #Calculate the numerator (sum((HHI * 100) ** 2))\n"
   ]
  },
  {
   "cell_type": "code",
   "execution_count": 25,
   "metadata": {},
   "outputs": [],
   "source": [
    "HHI = HHI_numer / HHI_denom"
   ]
  },
  {
   "cell_type": "code",
   "execution_count": 26,
   "metadata": {},
   "outputs": [],
   "source": [
    "HHI_average = HHI.mean()"
   ]
  },
  {
   "cell_type": "code",
   "execution_count": 27,
   "metadata": {},
   "outputs": [
    {
     "data": {
      "text/plain": [
       "            sic2d\n",
       "sum  saleq  8.0      7018.726263\n",
       "            81.0     9216.866804\n",
       "            84.0     9686.244489\n",
       "            9.0      9736.029362\n",
       "dtype: float64"
      ]
     },
     "execution_count": 27,
     "metadata": {},
     "output_type": "execute_result"
    }
   ],
   "source": [
    "HHI_average[HHI_average > 9999.9999] = np.nan\n",
    "HHI_average = HHI_average.dropna() #Only consider industries with more than 1 company on average (thus exclude those with only one company in the industry always)\n",
    "HHI_average[HHI_average.values.argsort()[-4:]]"
   ]
  },
  {
   "cell_type": "code",
   "execution_count": 28,
   "metadata": {},
   "outputs": [],
   "source": [
    "temp = HHI_average[HHI_average.values.argsort()[-4:]].index"
   ]
  },
  {
   "cell_type": "code",
   "execution_count": 30,
   "metadata": {},
   "outputs": [
    {
     "data": {
      "image/png": "[encoded data removed]",
      "text/plain": [
       "<Figure size 1440x864 with 4 Axes>"
      ]
     },
     "metadata": {
      "needs_background": "light"
     },
     "output_type": "display_data"
    }
   ],
   "source": [
    "fig, ax = plt.subplots(2, 2, figsize = (20, 12))\n",
    "for i in range(4):\n",
    "    tempax = ax.ravel()[i]\n",
    "    tempax.plot(HHI[temp[i]].values.tolist(), 'b-')\n",
    "    tempax.set_title(\"HHI for industry \" + str(temp[i][2]))\n",
    "    tempax.grid(ls = '--')\n",
    "    \n",
    "plt.show()"
   ]
  },
  {
   "cell_type": "code",
   "execution_count": null,
   "metadata": {},
   "outputs": [],
   "source": []
  },
  {
   "cell_type": "code",
   "execution_count": null,
   "metadata": {},
   "outputs": [],
   "source": []
  },
  {
   "cell_type": "code",
   "execution_count": null,
   "metadata": {},
   "outputs": [],
   "source": []
  },
  {
   "cell_type": "code",
   "execution_count": null,
   "metadata": {},
   "outputs": [],
   "source": []
  }
 ],
 "metadata": {
  "kernelspec": {
   "display_name": "Python 3",
   "language": "python",
   "name": "python3"
  },
  "language_info": {
   "codemirror_mode": {
    "name": "ipython",
    "version": 3
   },
   "file_extension": ".py",
   "mimetype": "text/x-python",
   "name": "python",
   "nbconvert_exporter": "python",
   "pygments_lexer": "ipython3",
   "version": "3.7.1"
  },
  "toc": {
   "base_numbering": 1,
   "nav_menu": {},
   "number_sections": true,
   "sideBar": true,
   "skip_h1_title": false,
   "title_cell": "Table of Contents",
   "title_sidebar": "Contents",
   "toc_cell": false,
   "toc_position": {},
   "toc_section_display": true,
   "toc_window_display": false
  },
  "varInspector": {
   "cols": {
    "lenName": 16,
    "lenType": 16,
    "lenVar": 40
   },
   "kernels_config": {
    "python": {
     "delete_cmd_postfix": "",
     "delete_cmd_prefix": "del ",
     "library": "var_list.py",
     "varRefreshCmd": "print(var_dic_list())"
    },
    "r": {
     "delete_cmd_postfix": ") ",
     "delete_cmd_prefix": "rm(",
     "library": "var_list.r",
     "varRefreshCmd": "cat(var_dic_list()) "
    }
   },
   "types_to_exclude": [
    "module",
    "function",
    "builtin_function_or_method",
    "instance",
    "_Feature"
   ],
   "window_display": false
  }
 },
 "nbformat": 4,
 "nbformat_minor": 4
}
