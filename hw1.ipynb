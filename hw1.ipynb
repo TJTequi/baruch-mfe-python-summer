{
 "cells": [
  {
   "cell_type": "markdown",
   "metadata": {},
   "source": [
    "# Homework"
   ]
  },
  {
   "cell_type": "markdown",
   "metadata": {},
   "source": [
    "## Set up your Python environtment\n",
    "Follow instructions in README to install VirtualBox, Conda, Jupyter, and create a Github repository.\n",
    "Your homework will need to be submitted to this repository in order to be graded."
   ]
  },
  {
   "cell_type": "markdown",
   "metadata": {},
   "source": [
    "## Write a Jupyter Magic\n",
    "\n",
    "Write a Jupyter Magic that count the number of words in the cell. Try to make it both a line and cell magic. Demonstrate its usage with examples.\n",
    "\n",
    "You can refer to this documentation in creating a magic: https://ipython.readthedocs.io/en/stable/config/custommagics.html\n",
    "\n",
    "Line magic:\n",
    "```python\n",
    "%countwords this is a line magic\n",
    "\n",
    "# output: 5\n",
    "```\n",
    "\n",
    "\n",
    "Cell magic:\n",
    "```python\n",
    "%%countwords\n",
    "\n",
    "this is a magic\n",
    "cell\n",
    "\n",
    "\n",
    "# output: 5\n",
    "```\n",
    "\n"
   ]
  },
  {
   "cell_type": "code",
   "execution_count": 18,
   "metadata": {},
   "outputs": [],
   "source": [
    "from IPython.core.magic import (register_line_magic, register_cell_magic, register_line_cell_magic)\n",
    "\n",
    "@register_line_magic\n",
    "def countwords(line):\n",
    "    \"my line magic\"\n",
    "    return len(line.split())\n",
    "\n",
    "@register_cell_magic\n",
    "def countwords(line, cell):\n",
    "    \"my cell magic\"\n",
    "    return len((cell + line).split())\n"
   ]
  },
  {
   "cell_type": "code",
   "execution_count": 19,
   "metadata": {},
   "outputs": [
    {
     "data": {
      "text/plain": [
       "4"
      ]
     },
     "execution_count": 19,
     "metadata": {},
     "output_type": "execute_result"
    }
   ],
   "source": [
    "%countwords \"I have an apple\""
   ]
  },
  {
   "cell_type": "code",
   "execution_count": 20,
   "metadata": {},
   "outputs": [
    {
     "data": {
      "text/plain": [
       "9"
      ]
     },
     "execution_count": 20,
     "metadata": {},
     "output_type": "execute_result"
    }
   ],
   "source": [
    "%%countwords\n",
    "\"How to do the homework?\"\n",
    "\"I do not know\""
   ]
  },
  {
   "cell_type": "code",
   "execution_count": 21,
   "metadata": {},
   "outputs": [
    {
     "data": {
      "text/plain": [
       "4"
      ]
     },
     "execution_count": 21,
     "metadata": {},
     "output_type": "execute_result"
    }
   ],
   "source": [
    "%countwords I have complete it"
   ]
  },
  {
   "cell_type": "code",
   "execution_count": 24,
   "metadata": {},
   "outputs": [
    {
     "data": {
      "text/plain": [
       "7"
      ]
     },
     "execution_count": 24,
     "metadata": {},
     "output_type": "execute_result"
    }
   ],
   "source": [
    "%%countwords I have completed a big\n",
    "cell magic"
   ]
  },
  {
   "cell_type": "markdown",
   "metadata": {},
   "source": [
    "## Profile the speed of list comprehension vs. for loops\n",
    "Design some experiments to compare the speed of list comprehension and using a for loop. Practice using `%time`/`%%time` magics."
   ]
  },
  {
   "cell_type": "code",
   "execution_count": 14,
   "metadata": {},
   "outputs": [
    {
     "name": "stdout",
     "output_type": "stream",
     "text": [
      "Wall time: 138 ms\n"
     ]
    }
   ],
   "source": [
    "%%time\n",
    "'''\n",
    "    Slower for traditional for loop\n",
    "'''\n",
    "a = []\n",
    "for i in range(1000000):\n",
    "    a.append(i)"
   ]
  },
  {
   "cell_type": "code",
   "execution_count": 15,
   "metadata": {},
   "outputs": [
    {
     "name": "stdout",
     "output_type": "stream",
     "text": [
      "Wall time: 97.8 ms\n"
     ]
    }
   ],
   "source": [
    "%%time\n",
    "'''\n",
    "    Faster for list comprehension\n",
    "'''\n",
    "a = [i for i in range(1000000)]"
   ]
  },
  {
   "cell_type": "markdown",
   "metadata": {},
   "source": [
    "## Prime numbers\n",
    "\n",
    "Write a function to return all prime numbers in a list. Can you do this with one line of list comprehension?"
   ]
  },
  {
   "cell_type": "code",
   "execution_count": 1,
   "metadata": {},
   "outputs": [],
   "source": [
    "def get_all_prime_numbers(num_list):\n",
    "    return [v for v in num_list if (v >= 2) and all(v % i != 0 for i in range(2, int(v ** 0.5) + 1))]"
   ]
  },
  {
   "cell_type": "code",
   "execution_count": 2,
   "metadata": {},
   "outputs": [
    {
     "data": {
      "text/plain": [
       "[2,\n",
       " 3,\n",
       " 5,\n",
       " 7,\n",
       " 11,\n",
       " 13,\n",
       " 17,\n",
       " 19,\n",
       " 23,\n",
       " 29,\n",
       " 31,\n",
       " 37,\n",
       " 41,\n",
       " 43,\n",
       " 47,\n",
       " 53,\n",
       " 59,\n",
       " 61,\n",
       " 67,\n",
       " 71,\n",
       " 73,\n",
       " 79,\n",
       " 83,\n",
       " 89,\n",
       " 97]"
      ]
     },
     "execution_count": 2,
     "metadata": {},
     "output_type": "execute_result"
    }
   ],
   "source": [
    "get_all_prime_numbers([i for i in range(100)])"
   ]
  },
  {
   "cell_type": "markdown",
   "metadata": {},
   "source": [
    "## Extend the Vector class\n",
    "* Extend the `Vector` class example to support any dimension. \n",
    "* Think of operations/methods that would be useful when using the `Vector` class. Do some research on dunder methods to see how you can implement them in a Pythonic way. \n",
    "* Do not worry about performance. \n",
    "* Some examples of usages are.\n",
    "\n",
    "```python\n",
    "# construction\n",
    ">> v = Vector(1, 2, 3, 4, 5)\n",
    "\n",
    "# get item\n",
    ">> v[2]\n",
    "3\n",
    "\n",
    "# slicing\n",
    ">> v[2:3]\n",
    "Vector(2)\n",
    "\n",
    "# length\n",
    ">> len(v)\n",
    "5\n",
    "\n",
    "# power\n",
    ">> v ** 2\n",
    "Vector(1, 4, 9, 16, 25)\n",
    "```"
   ]
  },
  {
   "cell_type": "code",
   "execution_count": 89,
   "metadata": {},
   "outputs": [],
   "source": [
    "class Vector:\n",
    "    \n",
    "    def __init__(self, *args):\n",
    "        self.val = list(args)\n",
    "        \n",
    "    def __getitem__(self, index):\n",
    "        if isinstance(index, slice):\n",
    "            return Vector(self.val[index])\n",
    "        \n",
    "        return self.val[index]\n",
    "    \n",
    "    def __len__(self):\n",
    "        return len(self.val)\n",
    "    \n",
    "    def __pow__(self, num):\n",
    "        return Vector([v ** num for v in self.val])\n",
    "    \n",
    "    def __repr__(self):\n",
    "        s = \"Vector(\"\n",
    "        for v in self.val[0]:\n",
    "            s += str(v)\n",
    "            if v != self.val[0][-1]:\n",
    "                s += ', '\n",
    "                \n",
    "        s += ')'\n",
    "        return s"
   ]
  },
  {
   "cell_type": "code",
   "execution_count": 90,
   "metadata": {},
   "outputs": [
    {
     "data": {
      "text/plain": [
       "3"
      ]
     },
     "execution_count": 90,
     "metadata": {},
     "output_type": "execute_result"
    }
   ],
   "source": [
    "v = Vector(1, 2, 3, 4, 5)\n",
    "v[2]"
   ]
  },
  {
   "cell_type": "code",
   "execution_count": 91,
   "metadata": {},
   "outputs": [
    {
     "data": {
      "text/plain": [
       "Vector(3, 4)"
      ]
     },
     "execution_count": 91,
     "metadata": {},
     "output_type": "execute_result"
    }
   ],
   "source": [
    "v[2:4]"
   ]
  },
  {
   "cell_type": "code",
   "execution_count": 92,
   "metadata": {},
   "outputs": [
    {
     "data": {
      "text/plain": [
       "5"
      ]
     },
     "execution_count": 92,
     "metadata": {},
     "output_type": "execute_result"
    }
   ],
   "source": [
    "len(v)"
   ]
  },
  {
   "cell_type": "code",
   "execution_count": 93,
   "metadata": {},
   "outputs": [
    {
     "data": {
      "text/plain": [
       "Vector(1, 4, 9, 16, 25)"
      ]
     },
     "execution_count": 93,
     "metadata": {},
     "output_type": "execute_result"
    }
   ],
   "source": [
    "v ** 2"
   ]
  },
  {
   "cell_type": "code",
   "execution_count": null,
   "metadata": {},
   "outputs": [],
   "source": []
  },
  {
   "cell_type": "markdown",
   "metadata": {},
   "source": [
    "## Case-insensitive dictionary\n",
    "* Write a `CaseInsensitiveDict` class that is insensitive to the case of keys.\n",
    "* It's a good idea to inherit from collections.UserDict.\n",
    "* Use examples to demonstrate how it should be used.\n",
    "\n",
    "\n",
    "```python\n",
    "d = CaseInsensitiveDict()\n",
    "d['A'] = 3\n",
    "\n",
    ">> print(d['a'])\n",
    "3\n",
    "\n",
    ">> d['A'] = 4\n",
    ">> print(d['a'])\n",
    "4\n",
    "```\n",
    "\n",
    "* Bonus point: what if you need to store the original keys?\n",
    "\n",
    "```python\n",
    ">> print(d)\n",
    "{'A': 3}\n",
    "```"
   ]
  },
  {
   "cell_type": "code",
   "execution_count": 193,
   "metadata": {},
   "outputs": [],
   "source": [
    "class CaseInsensitiveDict(dict):\n",
    "    \n",
    "    def __init__(self):\n",
    "        self.original = {}\n",
    "        self.main_dict = {}\n",
    "        self.store = []\n",
    "        \n",
    "    def __getitem__(self, key):\n",
    "        return self.main_dict[key.lower()]\n",
    "    \n",
    "    def __setitem__(self, key, val):\n",
    "        if key in self.original: #If a duplication occurs\n",
    "            tempdict = {}\n",
    "            tempdict[key] = self.original[key] #Create a new dict to maintain the format\n",
    "            self.store.append(repr(tempdict)) #append the representation\n",
    "            \n",
    "        elif key.lower() in self.main_dict: #If a case insensitive duplication occurs\n",
    "            tempdict = {k: v for k, v in self.original.items() if (key.lower() == k.lower()) and (key != k)} #find the original one\n",
    "            self.store.append(repr(tempdict))\n",
    "            \n",
    "        self.original[key] = val #Update the new key value\n",
    "        \n",
    "        mark = None\n",
    "        for k, v in self.original.items(): #If the case insensitive duplication occurs\n",
    "            if k != key and k.lower() == key.lower():\n",
    "                mark = k #find the duplication\n",
    "                \n",
    "        if mark:\n",
    "            del self.original[mark] #delete it\n",
    "            \n",
    "        self.main_dict[key.lower()] = val\n",
    "        \n",
    "    def __str__(self):\n",
    "        s = ''\n",
    "        for val in self.store:\n",
    "            s += str(val)\n",
    "            s += '\\n'\n",
    "        return s"
   ]
  },
  {
   "cell_type": "code",
   "execution_count": 194,
   "metadata": {},
   "outputs": [],
   "source": [
    "d = CaseInsensitiveDict()"
   ]
  },
  {
   "cell_type": "code",
   "execution_count": 195,
   "metadata": {},
   "outputs": [
    {
     "name": "stdout",
     "output_type": "stream",
     "text": [
      "3\n"
     ]
    }
   ],
   "source": [
    "d['A'] = 3\n",
    "print(d['a'])"
   ]
  },
  {
   "cell_type": "code",
   "execution_count": 196,
   "metadata": {},
   "outputs": [
    {
     "name": "stdout",
     "output_type": "stream",
     "text": [
      "4\n"
     ]
    }
   ],
   "source": [
    "d['A'] = 4 #now A: 3 is discarded\n",
    "print(d['a'])"
   ]
  },
  {
   "cell_type": "code",
   "execution_count": 197,
   "metadata": {},
   "outputs": [
    {
     "name": "stdout",
     "output_type": "stream",
     "text": [
      "{'A': 3}\n",
      "\n"
     ]
    }
   ],
   "source": [
    "print(d)"
   ]
  },
  {
   "cell_type": "code",
   "execution_count": 198,
   "metadata": {},
   "outputs": [],
   "source": [
    "d['a'] = 3 #now A: 4 is discarded"
   ]
  },
  {
   "cell_type": "code",
   "execution_count": 199,
   "metadata": {},
   "outputs": [
    {
     "name": "stdout",
     "output_type": "stream",
     "text": [
      "{'A': 3}\n",
      "{'A': 4}\n",
      "\n"
     ]
    }
   ],
   "source": [
    "print(d)"
   ]
  },
  {
   "cell_type": "code",
   "execution_count": 200,
   "metadata": {},
   "outputs": [],
   "source": [
    "d['A'] = 5 #now a: 3 is discarded"
   ]
  },
  {
   "cell_type": "code",
   "execution_count": 201,
   "metadata": {},
   "outputs": [
    {
     "name": "stdout",
     "output_type": "stream",
     "text": [
      "5\n"
     ]
    }
   ],
   "source": [
    "print(d['A'])"
   ]
  },
  {
   "cell_type": "code",
   "execution_count": 202,
   "metadata": {},
   "outputs": [
    {
     "name": "stdout",
     "output_type": "stream",
     "text": [
      "{'A': 3}\n",
      "{'A': 4}\n",
      "{'a': 3}\n",
      "\n"
     ]
    }
   ],
   "source": [
    "print(d)"
   ]
  },
  {
   "cell_type": "code",
   "execution_count": null,
   "metadata": {},
   "outputs": [],
   "source": []
  }
 ],
 "metadata": {
  "kernelspec": {
   "display_name": "Python 3",
   "language": "python",
   "name": "python3"
  },
  "language_info": {
   "codemirror_mode": {
    "name": "ipython",
    "version": 3
   },
   "file_extension": ".py",
   "mimetype": "text/x-python",
   "name": "python",
   "nbconvert_exporter": "python",
   "pygments_lexer": "ipython3",
   "version": "3.7.1"
  },
  "toc": {
   "base_numbering": 1,
   "nav_menu": {},
   "number_sections": true,
   "sideBar": true,
   "skip_h1_title": false,
   "title_cell": "Table of Contents",
   "title_sidebar": "Contents",
   "toc_cell": false,
   "toc_position": {},
   "toc_section_display": true,
   "toc_window_display": false
  },
  "varInspector": {
   "cols": {
    "lenName": 16,
    "lenType": 16,
    "lenVar": 40
   },
   "kernels_config": {
    "python": {
     "delete_cmd_postfix": "",
     "delete_cmd_prefix": "del ",
     "library": "var_list.py",
     "varRefreshCmd": "print(var_dic_list())"
    },
    "r": {
     "delete_cmd_postfix": ") ",
     "delete_cmd_prefix": "rm(",
     "library": "var_list.r",
     "varRefreshCmd": "cat(var_dic_list()) "
    }
   },
   "types_to_exclude": [
    "module",
    "function",
    "builtin_function_or_method",
    "instance",
    "_Feature"
   ],
   "window_display": false
  }
 },
 "nbformat": 4,
 "nbformat_minor": 4
}
