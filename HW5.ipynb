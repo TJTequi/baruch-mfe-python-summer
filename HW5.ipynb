{
 "cells": [
  {
   "cell_type": "markdown",
   "metadata": {},
   "source": [
    "# Question 1 Algorithmic questions"
   ]
  },
  {
   "cell_type": "markdown",
   "metadata": {},
   "source": [
    "Find the kth largest element in an unsorted array. Note that it is the kth largest element in the sorted order, not the kth distinct element."
   ]
  },
  {
   "cell_type": "markdown",
   "metadata": {},
   "source": [
    "## Examples:"
   ]
  },
  {
   "cell_type": "markdown",
   "metadata": {},
   "source": [
    "* Input: [3,2,1,5,6,4] and k = 2\n",
    "\n",
    "* Output: 5"
   ]
  },
  {
   "cell_type": "markdown",
   "metadata": {},
   "source": [
    "* Input: [3,2,3,1,2,4,5,5,6] and k = 4\n",
    "* Output: 4"
   ]
  },
  {
   "cell_type": "markdown",
   "metadata": {},
   "source": [
    "You may assume k is always valid, 1 ≤ k ≤ array's length."
   ]
  },
  {
   "cell_type": "markdown",
   "metadata": {},
   "source": [
    "To receive full credit, you should do the following:\n",
    "\n",
    "* Develop several test cases and explain why you choose these test cases\n",
    "* Wrap your solution into a function.\n",
    "* Analyze the time complexity of your algorithm."
   ]
  },
  {
   "cell_type": "markdown",
   "metadata": {},
   "source": [
    "Hint: You should use heapq to solve the question, but you should not use heapq.nlargest."
   ]
  },
  {
   "cell_type": "markdown",
   "metadata": {},
   "source": [
    "# Q1: Solution\n",
    "\n",
    "* We use the heap data structure to solve this problem\n",
    "* Basic Ideas:\n",
    "    * Heapify the given array (since heapq only supports minimum heap, then we choose the put the negative values in it)\n",
    "    * Then pop out k elements and negate them, the k-th element is the last popped element \n",
    "\n",
    "    \n",
    "* Time complexity\n",
    "    * heapify take O(n) time, each pop takes log(n) time\n",
    "    * So, the total time complexity is O(nlogn)\n",
    "    "
   ]
  },
  {
   "cell_type": "code",
   "execution_count": 1,
   "metadata": {},
   "outputs": [],
   "source": [
    "import heapq"
   ]
  },
  {
   "cell_type": "code",
   "execution_count": 2,
   "metadata": {},
   "outputs": [],
   "source": [
    "#Function that finds the k-th largest element using heap\n",
    "def kth_largest_element(nums, k):\n",
    "    '''\n",
    "        get the k-th larget element in an array\n",
    "        Input:\n",
    "            nums: the array\n",
    "            k: the target rank\n",
    "        Output:\n",
    "            the corresponding k-th largest value\n",
    "    '''\n",
    "    \n",
    "    assert(len(nums) >= k) #always valid but added for alerting purpose\n",
    "    neg_nums = [-v for v in nums]\n",
    "    \n",
    "    heapq.heapify(neg_nums)\n",
    "    for i in range(k):\n",
    "        val = heapq.heappop(neg_nums)\n",
    "        \n",
    "    return -val\n"
   ]
  },
  {
   "cell_type": "markdown",
   "metadata": {},
   "source": [
    "## For the test case, I will consider the following situations\n",
    "\n",
    "* A normal array with no special features\n",
    "* An array with duplicated elements\n",
    "* An array with negative numbers\n",
    "* Two corner cases that an array has only one element (1 and more than 1 of them)\n",
    "* Two cases when k = 1 and k = len(nums)\n",
    "* A sufficiently large array to show that even the value is large, the algorithm is still efficient (if it is O(n^2) or more, then it should cost several days to complete an array of size 10000000, but it should be in 1-2 seconds for nlogn algorithm)"
   ]
  },
  {
   "cell_type": "code",
   "execution_count": 3,
   "metadata": {},
   "outputs": [
    {
     "data": {
      "text/plain": [
       "5"
      ]
     },
     "execution_count": 3,
     "metadata": {},
     "output_type": "execute_result"
    }
   ],
   "source": [
    "#Test case 1: Correct\n",
    "kth_largest_element([3,2,1,5,6,4], 2)"
   ]
  },
  {
   "cell_type": "code",
   "execution_count": 4,
   "metadata": {},
   "outputs": [
    {
     "data": {
      "text/plain": [
       "3"
      ]
     },
     "execution_count": 4,
     "metadata": {},
     "output_type": "execute_result"
    }
   ],
   "source": [
    "#Test case 2: Correct\n",
    "kth_largest_element([3,2,5,3,2,5], 4)"
   ]
  },
  {
   "cell_type": "code",
   "execution_count": 5,
   "metadata": {},
   "outputs": [
    {
     "data": {
      "text/plain": [
       "-5"
      ]
     },
     "execution_count": 5,
     "metadata": {},
     "output_type": "execute_result"
    }
   ],
   "source": [
    "#Test case 3: Correct\n",
    "kth_largest_element([-2,-5,3,8,-4,-6], 5)"
   ]
  },
  {
   "cell_type": "code",
   "execution_count": 6,
   "metadata": {},
   "outputs": [
    {
     "data": {
      "text/plain": [
       "5"
      ]
     },
     "execution_count": 6,
     "metadata": {},
     "output_type": "execute_result"
    }
   ],
   "source": [
    "#Test case 4: Correct\n",
    "kth_largest_element([5], 1)"
   ]
  },
  {
   "cell_type": "code",
   "execution_count": 7,
   "metadata": {},
   "outputs": [
    {
     "data": {
      "text/plain": [
       "5"
      ]
     },
     "execution_count": 7,
     "metadata": {},
     "output_type": "execute_result"
    }
   ],
   "source": [
    "#Test case 5: Correct\n",
    "kth_largest_element([5, 5, 5, 5, 5, 5, 5], 4)"
   ]
  },
  {
   "cell_type": "code",
   "execution_count": 8,
   "metadata": {},
   "outputs": [
    {
     "data": {
      "text/plain": [
       "6"
      ]
     },
     "execution_count": 8,
     "metadata": {},
     "output_type": "execute_result"
    }
   ],
   "source": [
    "#Test case 6: Correct\n",
    "kth_largest_element([3,2,3,1,2,4,5,5,6], 1)"
   ]
  },
  {
   "cell_type": "code",
   "execution_count": 9,
   "metadata": {},
   "outputs": [
    {
     "data": {
      "text/plain": [
       "1"
      ]
     },
     "execution_count": 9,
     "metadata": {},
     "output_type": "execute_result"
    }
   ],
   "source": [
    "#Test case 7: Correct\n",
    "kth_largest_element([3,2,3,1,2,4,5,5,6], 9)"
   ]
  },
  {
   "cell_type": "code",
   "execution_count": 10,
   "metadata": {},
   "outputs": [],
   "source": [
    "#Test case 8: Correct\n",
    "arr = [1] * 1000000 + [2] * 1000000 + [5] * 1000000 + [3] * 7000000 #an array size of 10000000\n"
   ]
  },
  {
   "cell_type": "code",
   "execution_count": 11,
   "metadata": {},
   "outputs": [
    {
     "name": "stdout",
     "output_type": "stream",
     "text": [
      "Wall time: 1.49 s\n"
     ]
    },
    {
     "data": {
      "text/plain": [
       "3"
      ]
     },
     "execution_count": 11,
     "metadata": {},
     "output_type": "execute_result"
    }
   ],
   "source": [
    "#Test case 9: Correct\n",
    "%time kth_largest_element(arr, 1500000)\n",
    "#Answer is corret and the time is 1.31s, which is relatively efficient"
   ]
  },
  {
   "cell_type": "code",
   "execution_count": null,
   "metadata": {},
   "outputs": [],
   "source": []
  },
  {
   "cell_type": "markdown",
   "metadata": {},
   "source": [
    "# Question 2 Multithreading pop."
   ]
  },
  {
   "cell_type": "markdown",
   "metadata": {},
   "source": [
    "Using python data structure Queue, generate a queue that have 10000 elments. Then use 1, 5, 20 threads to pop out the elments out. Compare the efficiency when you use different number of threads and explain why you see the pattern of performance."
   ]
  },
  {
   "cell_type": "code",
   "execution_count": 12,
   "metadata": {},
   "outputs": [],
   "source": [
    "import threading\n",
    "from queue import Queue\n",
    "import time"
   ]
  },
  {
   "cell_type": "markdown",
   "metadata": {},
   "source": [
    "## For testing purpose, we use %%timeit magic to calculate the average time to reduce randomness"
   ]
  },
  {
   "cell_type": "code",
   "execution_count": 13,
   "metadata": {},
   "outputs": [],
   "source": [
    "def test_thread_performance(no_of_thread, queue_size):\n",
    "    '''\n",
    "        Test the performance of the thread\n",
    "        Input: \n",
    "            no_of_thread: the number of thread\n",
    "            queue_size: the size of the queue\n",
    "            \n",
    "        Return:\n",
    "            the running time\n",
    "            \n",
    "    '''\n",
    "    def pop_elements():\n",
    "        while q.qsize() != 0:\n",
    "            q.get()\n",
    "            q.task_done()\n",
    "            \n",
    "    q = Queue(maxsize=queue_size)\n",
    "    for i in range(queue_size): #Generate a queue that have 10000 elements\n",
    "        q.put(i)\n",
    "        \n",
    "    thread_list = []\n",
    "    \n",
    "    starting_time = time.time()\n",
    "    for i in range(no_of_thread):\n",
    "        thread_list.append(threading.Thread(target=pop_elements()))\n",
    "        \n",
    "    for i in range(no_of_thread):\n",
    "        thread_list[i].start()\n",
    "        \n",
    "    return time.time() - starting_time"
   ]
  },
  {
   "cell_type": "code",
   "execution_count": 20,
   "metadata": {},
   "outputs": [
    {
     "name": "stdout",
     "output_type": "stream",
     "text": [
      "41.7 ms ± 617 µs per loop (mean ± std. dev. of 7 runs, 10 loops each)\n"
     ]
    }
   ],
   "source": [
    "%%timeit\n",
    "test_thread_performance(1, 10000)"
   ]
  },
  {
   "cell_type": "code",
   "execution_count": 21,
   "metadata": {},
   "outputs": [
    {
     "name": "stdout",
     "output_type": "stream",
     "text": [
      "50.3 ms ± 11 ms per loop (mean ± std. dev. of 7 runs, 10 loops each)\n"
     ]
    }
   ],
   "source": [
    "%%timeit\n",
    "test_thread_performance(5, 10000)"
   ]
  },
  {
   "cell_type": "code",
   "execution_count": 22,
   "metadata": {},
   "outputs": [
    {
     "name": "stdout",
     "output_type": "stream",
     "text": [
      "55.5 ms ± 754 µs per loop (mean ± std. dev. of 7 runs, 10 loops each)\n"
     ]
    }
   ],
   "source": [
    "%%timeit\n",
    "test_thread_performance(20, 10000)"
   ]
  },
  {
   "cell_type": "code",
   "execution_count": 17,
   "metadata": {},
   "outputs": [
    {
     "name": "stdout",
     "output_type": "stream",
     "text": [
      "4.45 s ± 112 ms per loop (mean ± std. dev. of 7 runs, 1 loop each)\n"
     ]
    }
   ],
   "source": [
    "%%timeit\n",
    "test_thread_performance(1, 1000000)"
   ]
  },
  {
   "cell_type": "code",
   "execution_count": 18,
   "metadata": {},
   "outputs": [
    {
     "name": "stdout",
     "output_type": "stream",
     "text": [
      "4.81 s ± 820 ms per loop (mean ± std. dev. of 7 runs, 1 loop each)\n"
     ]
    }
   ],
   "source": [
    "%%timeit\n",
    "test_thread_performance(5, 1000000)"
   ]
  },
  {
   "cell_type": "code",
   "execution_count": 19,
   "metadata": {},
   "outputs": [
    {
     "name": "stdout",
     "output_type": "stream",
     "text": [
      "4.79 s ± 336 ms per loop (mean ± std. dev. of 7 runs, 1 loop each)\n"
     ]
    }
   ],
   "source": [
    "%%timeit\n",
    "test_thread_performance(20, 1000000)"
   ]
  },
  {
   "cell_type": "markdown",
   "metadata": {},
   "source": [
    "## Conclusions\n",
    "\n",
    "* It seems that the performance for 1 thread is better in both cases when no_of_element = 10000 and 1000000\n",
    "* This result is counterintuitive as the time is expected to reduce when the number of threads increases\n",
    "* Some possible explanations for this fact:\n",
    "    * The number of elements are still too low to show the benefit of multi-threading (like n = 10^9, which is not testable on a single PC)\n",
    "    * It takes time to create threads and it is not negligible\n",
    "    * Additional processes are involved in the operating system when dealing with different threads, making a single thread more time-efficient"
   ]
  },
  {
   "cell_type": "code",
   "execution_count": null,
   "metadata": {},
   "outputs": [],
   "source": []
  }
 ],
 "metadata": {
  "kernelspec": {
   "display_name": "Python 3",
   "language": "python",
   "name": "python3"
  },
  "language_info": {
   "codemirror_mode": {
    "name": "ipython",
    "version": 3
   },
   "file_extension": ".py",
   "mimetype": "text/x-python",
   "name": "python",
   "nbconvert_exporter": "python",
   "pygments_lexer": "ipython3",
   "version": "3.7.1"
  },
  "varInspector": {
   "cols": {
    "lenName": 16,
    "lenType": 16,
    "lenVar": 40
   },
   "kernels_config": {
    "python": {
     "delete_cmd_postfix": "",
     "delete_cmd_prefix": "del ",
     "library": "var_list.py",
     "varRefreshCmd": "print(var_dic_list())"
    },
    "r": {
     "delete_cmd_postfix": ") ",
     "delete_cmd_prefix": "rm(",
     "library": "var_list.r",
     "varRefreshCmd": "cat(var_dic_list()) "
    }
   },
   "types_to_exclude": [
    "module",
    "function",
    "builtin_function_or_method",
    "instance",
    "_Feature"
   ],
   "window_display": false
  }
 },
 "nbformat": 4,
 "nbformat_minor": 2
}
